{
 "cells": [
  {
   "cell_type": "markdown",
   "id": "1594564f-91ad-4ae6-b225-9072bdde81f7",
   "metadata": {},
   "source": [
    "# Assignment 4 - CS 150 Programming Assignment"
   ]
  },
  {
   "cell_type": "markdown",
   "id": "1623ca39-bd6c-455d-b766-f5feb64cab16",
   "metadata": {},
   "source": [
    "### Task 1"
   ]
  },
  {
   "cell_type": "markdown",
   "id": "b584cfcc-d6af-47a4-9eb5-12a41821af7d",
   "metadata": {},
   "source": [
    "def print_factors(num):\n",
    "    print(f\"Factors of {num}:\")\n",
    "    for i in range(1, num + 1):\n",
    "        if num % i == 0:\n",
    "            print(f\"{i} is a factor of {num}\")\n",
    "\n",
    "# Input from the user\n",
    "number = int(input(\"Please input a positive integer: \"))\n",
    "print_factors(number)"
   ]
  },
  {
   "cell_type": "code",
   "execution_count": 7,
   "id": "34bf2074-9862-4538-9607-d3e2b0571d87",
   "metadata": {},
   "outputs": [
    {
     "name": "stdin",
     "output_type": "stream",
     "text": [
      "Please input a positive integer:  2\n"
     ]
    },
    {
     "name": "stdout",
     "output_type": "stream",
     "text": [
      "Your number is prime.\n"
     ]
    }
   ],
   "source": [
    "def is_prime(num):\n",
    "    if num < 2:\n",
    "        return False\n",
    "    for i in range(2, int(num**0.5) + 1):\n",
    "        if num % i == 0:\n",
    "            return False\n",
    "    return True\n",
    "\n",
    "# Input from the user\n",
    "number = int(input(\"Please input a positive integer: \"))\n",
    "\n",
    "if is_prime(number):\n",
    "    print(\"Your number is prime.\")\n",
    "else:\n",
    "    print(\"Your number is not prime.\")"
   ]
  },
  {
   "cell_type": "markdown",
   "id": "fe084305-e5fe-434c-be17-9ec272299ac0",
   "metadata": {},
   "source": [
    "### Task 2"
   ]
  },
  {
   "cell_type": "code",
   "execution_count": 18,
   "id": "b5f8ca61-04cd-41d1-a37e-ccf2b68f083b",
   "metadata": {},
   "outputs": [
    {
     "name": "stdin",
     "output_type": "stream",
     "text": [
      "Enter a word to translate from English to Spanish (hit enter to stop):  chair\n"
     ]
    },
    {
     "name": "stdout",
     "output_type": "stream",
     "text": [
      "The Spanish word for chair is SILLA.\n"
     ]
    },
    {
     "name": "stdin",
     "output_type": "stream",
     "text": [
      "Enter a word to translate from English to Spanish (hit enter to stop):  car\n"
     ]
    },
    {
     "name": "stdout",
     "output_type": "stream",
     "text": [
      "The Spanish word for car is COCHE.\n"
     ]
    },
    {
     "name": "stdin",
     "output_type": "stream",
     "text": [
      "Enter a word to translate from English to Spanish (hit enter to stop):  \n"
     ]
    },
    {
     "name": "stdout",
     "output_type": "stream",
     "text": [
      "Exiting the translation program.\n"
     ]
    }
   ],
   "source": [
    "# Part A: Translation dictionary from English to Spanish\n",
    "translation_dict = {\n",
    "    \"chair\": \"silla\",\n",
    "    \"cat\": \"gato\",\n",
    "    \"dog\": \"perro\",\n",
    "    \"book\": \"libro\",\n",
    "    \"apple\": \"manzana\",\n",
    "    \"car\": \"coche\",\n",
    "    \"house\": \"casa\",\n",
    "    \"tree\": \"árbol\",\n",
    "    \"water\": \"agua\",\n",
    "    \"sun\": \"sol\"}\n",
    "\n",
    "# Part B: Translator program\n",
    "def translate():\n",
    "    while True:\n",
    "        # Ask user for input\n",
    "        word = input(\"Enter a word to translate from English to Spanish (hit enter to stop): \").lower()\n",
    "        \n",
    "        # Exit if the input is empty\n",
    "        if word == \"\":\n",
    "            print(\"Exiting the translation program.\")\n",
    "            break\n",
    "        \n",
    "        # Check if the word exists in the dictionary\n",
    "        if word in translation_dict:\n",
    "            print(f\"The Spanish word for {word} is {translation_dict[word].upper()}.\")\n",
    "        else:\n",
    "            print(f\"The Spanish word for {word} is not in this dictionary.\")\n",
    "\n",
    "# Run the translation program\n",
    "translate()"
   ]
  },
  {
   "cell_type": "markdown",
   "id": "adaa3bcf-1cd7-40b8-80fb-85277623f729",
   "metadata": {},
   "source": [
    "### Task 3"
   ]
  },
  {
   "cell_type": "code",
   "execution_count": 23,
   "id": "b8a67021-fcf4-4504-8bc1-e0e135bc2dc3",
   "metadata": {},
   "outputs": [
    {
     "name": "stdin",
     "output_type": "stream",
     "text": [
      "Enter a month: I will give you the average high and low temperatures in Louisville\n",
      ":  October\n"
     ]
    },
    {
     "name": "stdout",
     "output_type": "stream",
     "text": [
      "The average high temperature in Louisville for October is 70 and the average low is 50.\n"
     ]
    },
    {
     "name": "stdin",
     "output_type": "stream",
     "text": [
      "Enter a month: I will give you the average high and low temperatures in Louisville\n",
      ":  July\n"
     ]
    },
    {
     "name": "stdout",
     "output_type": "stream",
     "text": [
      "The average high temperature in Louisville for July is 88 and the average low is 70.\n"
     ]
    },
    {
     "name": "stdin",
     "output_type": "stream",
     "text": [
      "Enter a month: I will give you the average high and low temperatures in Louisville\n",
      ":  quit\n"
     ]
    },
    {
     "name": "stdout",
     "output_type": "stream",
     "text": [
      "Exiting the program.\n"
     ]
    }
   ],
   "source": [
    "# Temperature data dictionary for Louisville (average highs and lows in Fahrenheit)\n",
    "temperature_data = {\n",
    "    'January': [43, 27],\n",
    "    'February': [49, 30],\n",
    "    'March': [58, 38],\n",
    "    'April': [68, 47],\n",
    "    'May': [77, 57],\n",
    "    'June': [85, 66],\n",
    "    'July': [88, 70],\n",
    "    'August': [87, 69],\n",
    "    'September': [81, 62],\n",
    "    'October': [70, 50],\n",
    "    'November': [58, 40],\n",
    "    'December': [46, 31]\n",
    "}\n",
    "\n",
    "# Part B: Program to retrieve temperatures for a given month\n",
    "def get_temperature():\n",
    "    while True:\n",
    "        # Ask for the month input\n",
    "        month = input(\"Enter a month: I will give you the average high and low temperatures in Louisville\\n: \").capitalize()\n",
    "        \n",
    "        # Check if the user wants to quit\n",
    "        if month == \"Quit\":\n",
    "            print(\"Exiting the program.\")\n",
    "            break\n",
    "        \n",
    "        # Check if the entered month is valid\n",
    "        if month in temperature_data:\n",
    "            high, low = temperature_data[month]\n",
    "            print(f\"The average high temperature in Louisville for {month} is {high} and the average low is {low}.\")\n",
    "        else:\n",
    "            print(f\"{month} is not a valid month.\")\n",
    "\n",
    "# Run the temperature summary program\n",
    "get_temperature()"
   ]
  },
  {
   "cell_type": "markdown",
   "id": "83172d4b-b9f4-4fce-a1a0-da0d08a315a7",
   "metadata": {},
   "source": [
    "### Task 4"
   ]
  },
  {
   "cell_type": "code",
   "execution_count": 26,
   "id": "cc6abeef-9637-4b7a-885d-c450679e3703",
   "metadata": {},
   "outputs": [
    {
     "name": "stdout",
     "output_type": "stream",
     "text": [
      "\n",
      "Menu:\n",
      "1. Look up an item by name\n",
      "2. Find items within a budget\n",
      "3. Total quantity of all items\n",
      "4. Total price of all items\n",
      "5. Exit\n"
     ]
    },
    {
     "name": "stdin",
     "output_type": "stream",
     "text": [
      "Please select an option (1-5):  hammer\n"
     ]
    },
    {
     "name": "stdout",
     "output_type": "stream",
     "text": [
      "Invalid option. Please select a valid menu option (1-5).\n",
      "\n",
      "Menu:\n",
      "1. Look up an item by name\n",
      "2. Find items within a budget\n",
      "3. Total quantity of all items\n",
      "4. Total price of all items\n",
      "5. Exit\n"
     ]
    },
    {
     "name": "stdin",
     "output_type": "stream",
     "text": [
      "Please select an option (1-5):  1\n",
      "Enter the item name:  hammer\n"
     ]
    },
    {
     "name": "stdout",
     "output_type": "stream",
     "text": [
      "There are 15 hammer(s) available at $12.49 each.\n",
      "\n",
      "Menu:\n",
      "1. Look up an item by name\n",
      "2. Find items within a budget\n",
      "3. Total quantity of all items\n",
      "4. Total price of all items\n",
      "5. Exit\n"
     ]
    },
    {
     "name": "stdin",
     "output_type": "stream",
     "text": [
      "Please select an option (1-5):  3\n"
     ]
    },
    {
     "name": "stdout",
     "output_type": "stream",
     "text": [
      "The total quantity of all items in inventory is: 140\n",
      "\n",
      "Menu:\n",
      "1. Look up an item by name\n",
      "2. Find items within a budget\n",
      "3. Total quantity of all items\n",
      "4. Total price of all items\n",
      "5. Exit\n"
     ]
    },
    {
     "name": "stdin",
     "output_type": "stream",
     "text": [
      "Please select an option (1-5):  2\n",
      "Enter your maximum budget:  45\n"
     ]
    },
    {
     "name": "stdout",
     "output_type": "stream",
     "text": [
      "Items you can buy within $45.0: hammer, wrench, screwdriver, nailgun, padlock, roll_of_duct_tape\n",
      "\n",
      "Menu:\n",
      "1. Look up an item by name\n",
      "2. Find items within a budget\n",
      "3. Total quantity of all items\n",
      "4. Total price of all items\n",
      "5. Exit\n"
     ]
    },
    {
     "name": "stdin",
     "output_type": "stream",
     "text": [
      "Please select an option (1-5):  exit\n"
     ]
    },
    {
     "name": "stdout",
     "output_type": "stream",
     "text": [
      "Invalid option. Please select a valid menu option (1-5).\n",
      "\n",
      "Menu:\n",
      "1. Look up an item by name\n",
      "2. Find items within a budget\n",
      "3. Total quantity of all items\n",
      "4. Total price of all items\n",
      "5. Exit\n"
     ]
    },
    {
     "name": "stdin",
     "output_type": "stream",
     "text": [
      "Please select an option (1-5):  5\n"
     ]
    },
    {
     "name": "stdout",
     "output_type": "stream",
     "text": [
      "Exiting the program.\n"
     ]
    }
   ],
   "source": [
    "# Inventory dictionary with quantity and price per item\n",
    "inventory = {\n",
    "    'hammer': [15, 12.49],\n",
    "    'wrench': [20, 7.99],\n",
    "    'screwdriver': [40, 3.99],\n",
    "    'nailgun': [10, 36.59],\n",
    "    'padlock': [25, 5.99],\n",
    "    'roll_of_duct_tape': [30, 4.95]\n",
    "}\n",
    "\n",
    "# Function to display the menu and process user input\n",
    "def inventory_menu():\n",
    "    while True:\n",
    "        # Display the menu options\n",
    "        print(\"\\nMenu:\")\n",
    "        print(\"1. Look up an item by name\")\n",
    "        print(\"2. Find items within a budget\")\n",
    "        print(\"3. Total quantity of all items\")\n",
    "        print(\"4. Total price of all items\")\n",
    "        print(\"5. Exit\")\n",
    "        \n",
    "        # Get user input for the menu option\n",
    "        choice = input(\"Please select an option (1-5): \")\n",
    "\n",
    "        # Option 1: Look up an item by name\n",
    "        if choice == '1':\n",
    "            item_name = input(\"Enter the item name: \").lower()\n",
    "            if item_name in inventory:\n",
    "                quantity, price = inventory[item_name]\n",
    "                print(f\"There are {quantity} {item_name}(s) available at ${price:.2f} each.\")\n",
    "            else:\n",
    "                print(f\"{item_name} is not available in the inventory.\")\n",
    "\n",
    "        # Option 2: Find items within a budget\n",
    "        elif choice == '2':\n",
    "            try:\n",
    "                budget = float(input(\"Enter your maximum budget: \"))\n",
    "                items_in_budget = [item for item, (qty, price) in inventory.items() if price <= budget]\n",
    "                if items_in_budget:\n",
    "                    print(f\"Items you can buy within ${budget}: {', '.join(items_in_budget)}\")\n",
    "                else:\n",
    "                    print(f\"No items are available within a budget of ${budget}.\")\n",
    "            except ValueError:\n",
    "                print(\"Invalid input. Please enter a valid number for the budget.\")\n",
    "\n",
    "        # Option 3: Total quantity of all items\n",
    "        elif choice == '3':\n",
    "            total_quantity = sum(qty for qty, price in inventory.values())\n",
    "            print(f\"The total quantity of all items in inventory is: {total_quantity}\")\n",
    "\n",
    "        # Option 4: Total price of all items\n",
    "        elif choice == '4':\n",
    "            total_price = sum(qty * price for qty, price in inventory.values())\n",
    "            print(f\"The total value of all items in inventory is: ${total_price:.2f}\")\n",
    "\n",
    "        # Option 5: Exit the program\n",
    "        elif choice == '5':\n",
    "            print(\"Exiting the program.\")\n",
    "            break\n",
    "\n",
    "        # Invalid option\n",
    "        else:\n",
    "            print(\"Invalid option. Please select a valid menu option (1-5).\")\n",
    "\n",
    "# Run the inventory menu\n",
    "inventory_menu()"
   ]
  },
  {
   "cell_type": "code",
   "execution_count": null,
   "id": "ed8f83dd-6cc0-467f-955e-418e290ea1f5",
   "metadata": {},
   "outputs": [],
   "source": []
  }
 ],
 "metadata": {
  "kernelspec": {
   "display_name": "Python 3 (ipykernel)",
   "language": "python",
   "name": "python3"
  },
  "language_info": {
   "codemirror_mode": {
    "name": "ipython",
    "version": 3
   },
   "file_extension": ".py",
   "mimetype": "text/x-python",
   "name": "python",
   "nbconvert_exporter": "python",
   "pygments_lexer": "ipython3",
   "version": "3.12.4"
  }
 },
 "nbformat": 4,
 "nbformat_minor": 5
}
