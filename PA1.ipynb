{
 "cells": [
  {
   "cell_type": "markdown",
   "id": "3e73accf-4360-42b6-aef0-3d521f7f85b5",
   "metadata": {},
   "source": [
    "# Chase Carver - Markdown Practice"
   ]
  },
  {
   "cell_type": "markdown",
   "id": "0c39ad98-5f70-4a87-9a86-fddfbc08332e",
   "metadata": {},
   "source": [
    "### I am a second-year student at Bellarmine and look forward to taking this class. I play baseball, and I am a business admin. major. I am minoring in data analytics, which is why I am taking this class."
   ]
  },
  {
   "cell_type": "markdown",
   "id": "defc6d29-28bc-49d5-8d51-6ca1ebb889d3",
   "metadata": {},
   "source": [
    "### Numbered List"
   ]
  },
  {
   "cell_type": "markdown",
   "id": "d220ddc0-be3a-464e-a28e-86ec6edb037f",
   "metadata": {},
   "source": [
    "- Programming Assignments\n",
    "- Quizzes\n",
    "- Attendance/ Class Participation\n",
    "- Mid-Term Exams\n",
    "- Projects"
   ]
  },
  {
   "cell_type": "markdown",
   "id": "f9afec01-76fc-4779-a405-dd2767cb114d",
   "metadata": {},
   "source": [
    "### Ordered List"
   ]
  },
  {
   "cell_type": "markdown",
   "id": "1d8458d5-b903-4e7a-81cd-89bb960a5310",
   "metadata": {},
   "source": [
    "1. Chapter 1\n",
    "2. Chapter 2\n",
    "3. Chapter 3\n",
    "4. Chapter 4\n",
    "5. Chapter 5\n",
    "6. Chapter 6\n",
    "7. Chapter 7\n",
    "8. Chapter 8\n",
    "9. Chapter 9\n",
    "10. Chapter 10\n",
    "11. Chapter 11"
   ]
  },
  {
   "cell_type": "markdown",
   "id": "9c256918-2523-46b9-b073-367c15b3da0d",
   "metadata": {},
   "source": [
    "### Primary Language"
   ]
  },
  {
   "cell_type": "markdown",
   "id": "a9393247-7376-49d1-b340-ee5a5e128d08",
   "metadata": {},
   "source": [
    "<b> Python"
   ]
  },
  {
   "cell_type": "markdown",
   "id": "fa444115-11f3-4718-a03d-627381987893",
   "metadata": {},
   "source": [
    "### Software"
   ]
  },
  {
   "cell_type": "markdown",
   "id": "ac857dd2-018d-4c74-a2e9-5569c5c35c42",
   "metadata": {},
   "source": [
    "<i> Anaconda-Navagator"
   ]
  },
  {
   "cell_type": "markdown",
   "id": "0f3165ae-1afb-4e90-a736-3dd8d03a8b2c",
   "metadata": {},
   "source": [
    "### Part g"
   ]
  },
  {
   "cell_type": "markdown",
   "id": "0684d880-1b0c-487e-8979-a09fea13f048",
   "metadata": {},
   "source": [
    "<mark>Today at practice, I threw a bullpen."
   ]
  },
  {
   "cell_type": "markdown",
   "id": "a19204cc-c3e7-46a5-a254-6b0a85b5e86a",
   "metadata": {},
   "source": [
    "### Part h"
   ]
  },
  {
   "cell_type": "markdown",
   "id": "727dc4f4-c5fb-424f-81f9-599e6fe408a6",
   "metadata": {},
   "source": [
    "<a href=\"https://github.com/CCarver27/CS150-Fall2024\">Chase Carver GitHub </a>"
   ]
  },
  {
   "cell_type": "markdown",
   "id": "5a787b59-5333-4703-a122-8a6e3acec17c",
   "metadata": {},
   "source": [
    "### Part i"
   ]
  },
  {
   "cell_type": "markdown",
   "id": "1fdbb00c-f764-4691-8645-8e9659a47c1c",
   "metadata": {},
   "source": [
    "![Logo](https://www.bellarmine.edu/sf-images/default-source/default-album/bellarmine-university-logo.png?sfvrsn=92294480_0)"
   ]
  },
  {
   "cell_type": "markdown",
   "id": "73788461-53cb-4d31-ba87-2e41e039abea",
   "metadata": {},
   "source": [
    "### Part j"
   ]
  },
  {
   "cell_type": "markdown",
   "id": "e3fcb074-d7ec-4cff-b686-489b9110ca57",
   "metadata": {},
   "source": [
    "Today, I learned how to make certain types of text with Markdown. I also learned how to highlight, insert images, and insert hyperlinks with it. "
   ]
  }
 ],
 "metadata": {
  "kernelspec": {
   "display_name": "Python 3 (ipykernel)",
   "language": "python",
   "name": "python3"
  },
  "language_info": {
   "codemirror_mode": {
    "name": "ipython",
    "version": 3
   },
   "file_extension": ".py",
   "mimetype": "text/x-python",
   "name": "python",
   "nbconvert_exporter": "python",
   "pygments_lexer": "ipython3",
   "version": "3.12.4"
  }
 },
 "nbformat": 4,
 "nbformat_minor": 5
}
