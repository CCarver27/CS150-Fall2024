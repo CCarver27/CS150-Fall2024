{
 "cells": [
  {
   "cell_type": "markdown",
   "id": "01791af3-da8f-425b-9918-54bdf7374a12",
   "metadata": {},
   "source": [
    "# Course Assignment 2- Chase Carver(CS-150)"
   ]
  },
  {
   "cell_type": "markdown",
   "id": "53178298-6f5f-4ff2-b54a-884ad136144f",
   "metadata": {},
   "source": [
    "### Task 1"
   ]
  },
  {
   "cell_type": "code",
   "execution_count": 88,
   "id": "03888c1d-64e3-42ef-9e58-89fccf3505e2",
   "metadata": {},
   "outputs": [],
   "source": [
    "myname = 'Chase'\n",
    "myage = 19\n",
    "myheight = '73 inches'\n",
    "mycolor = 'green'"
   ]
  },
  {
   "cell_type": "code",
   "execution_count": 90,
   "id": "40db8bf3-8a3a-4537-9ca7-9b6d817c9e02",
   "metadata": {},
   "outputs": [
    {
     "name": "stdout",
     "output_type": "stream",
     "text": [
      "My name is Chase. I am 19 years old. I am 73 inches tall. My favorite color is green.\n"
     ]
    }
   ],
   "source": [
    "print( 'My name is ' + (myname) + '. I am '+ str(myage) + ' years old. I am '+ str(myheight) + ' tall. My favorite color is '+ str(mycolor) + '.' )"
   ]
  },
  {
   "cell_type": "markdown",
   "id": "1b7b0f6d-e26f-40f8-911f-1a0c2304b55a",
   "metadata": {},
   "source": [
    "### Task 2"
   ]
  },
  {
   "cell_type": "code",
   "execution_count": 93,
   "id": "410de5f6-2f51-4526-99a3-f15c85c6eb4a",
   "metadata": {},
   "outputs": [],
   "source": [
    "celsius_temp = 25"
   ]
  },
  {
   "cell_type": "code",
   "execution_count": 95,
   "id": "cf9582d5-277c-4d60-8c66-d14ea9d75ab2",
   "metadata": {},
   "outputs": [],
   "source": [
    "fahrenheit_temp = 77"
   ]
  },
  {
   "cell_type": "code",
   "execution_count": 107,
   "id": "3a9bc470-5c30-437a-950d-57e4c28b8df7",
   "metadata": {},
   "outputs": [
    {
     "name": "stdout",
     "output_type": "stream",
     "text": [
      "The temperature is 25 degrees C, which is the equivalent to 77 degrees F.\n"
     ]
    }
   ],
   "source": [
    "print( 'The temperature is ' + str(celsius_temp) + ' degrees C, which is the equivalent to ' + str(fahrenheit_temp) + ' degrees F.')"
   ]
  },
  {
   "cell_type": "markdown",
   "id": "fa52f874-ddb7-457f-95bf-0ee2389b7de7",
   "metadata": {},
   "source": [
    "### Task 3"
   ]
  },
  {
   "cell_type": "code",
   "execution_count": 110,
   "id": "90a59d3e-e7fd-445d-8819-4ff8f0863381",
   "metadata": {},
   "outputs": [],
   "source": [
    "num1 = 5\n",
    "num2 = 10"
   ]
  },
  {
   "cell_type": "code",
   "execution_count": 112,
   "id": "b9c1e2a0-d0fe-4700-bde6-3187caa263f1",
   "metadata": {},
   "outputs": [
    {
     "data": {
      "text/plain": [
       "15"
      ]
     },
     "execution_count": 112,
     "metadata": {},
     "output_type": "execute_result"
    }
   ],
   "source": [
    "(num1) + (num2)"
   ]
  },
  {
   "cell_type": "code",
   "execution_count": 114,
   "id": "902cedab-7666-4254-9ff5-0af646229909",
   "metadata": {},
   "outputs": [
    {
     "data": {
      "text/plain": [
       "-5"
      ]
     },
     "execution_count": 114,
     "metadata": {},
     "output_type": "execute_result"
    }
   ],
   "source": [
    "(num1) - (num2)"
   ]
  },
  {
   "cell_type": "code",
   "execution_count": 116,
   "id": "74d7bd58-d712-4337-8178-a52aa0d726e9",
   "metadata": {},
   "outputs": [
    {
     "data": {
      "text/plain": [
       "50"
      ]
     },
     "execution_count": 116,
     "metadata": {},
     "output_type": "execute_result"
    }
   ],
   "source": [
    "(num1) * (num2)"
   ]
  },
  {
   "cell_type": "code",
   "execution_count": 118,
   "id": "5917b075-1194-4c91-a4aa-5b35084158cf",
   "metadata": {},
   "outputs": [
    {
     "data": {
      "text/plain": [
       "0.5"
      ]
     },
     "execution_count": 118,
     "metadata": {},
     "output_type": "execute_result"
    }
   ],
   "source": [
    "(num1) / (num2)"
   ]
  },
  {
   "cell_type": "markdown",
   "id": "afe955f8-e1e4-4dac-9db3-300f4cbbece0",
   "metadata": {},
   "source": [
    "### Task 4"
   ]
  },
  {
   "cell_type": "code",
   "execution_count": 195,
   "id": "d169c9a5-c6c2-4e02-b175-7940b5cc7f8b",
   "metadata": {},
   "outputs": [],
   "source": [
    "quote = '\"Well done is better \\nthan well said\"'"
   ]
  },
  {
   "cell_type": "code",
   "execution_count": 197,
   "id": "f62720b9-a50a-4208-9782-92dfbf47c27e",
   "metadata": {},
   "outputs": [
    {
     "name": "stdout",
     "output_type": "stream",
     "text": [
      "\"Well done is better \n",
      "than well said\"\n"
     ]
    }
   ],
   "source": [
    "print(quote)"
   ]
  },
  {
   "cell_type": "code",
   "execution_count": 199,
   "id": "0e56eba1-b5e1-41ab-9677-843276cca2b2",
   "metadata": {},
   "outputs": [
    {
     "name": "stdout",
     "output_type": "stream",
     "text": [
      "\"WELL DONE IS BETTER \n",
      "THAN WELL SAID\"\n"
     ]
    }
   ],
   "source": [
    "print(quote.upper())"
   ]
  },
  {
   "cell_type": "code",
   "execution_count": 201,
   "id": "4151022c-1ef4-4f37-89c8-deebe53b6608",
   "metadata": {},
   "outputs": [
    {
     "name": "stdout",
     "output_type": "stream",
     "text": [
      "\"well done is better \n",
      "than well said\"\n"
     ]
    }
   ],
   "source": [
    "print(quote.lower())"
   ]
  },
  {
   "cell_type": "code",
   "execution_count": 203,
   "id": "1703c9f4-589c-4362-89f4-60558752d1c7",
   "metadata": {},
   "outputs": [
    {
     "name": "stdout",
     "output_type": "stream",
     "text": [
      "\"Well done is better \n",
      "than well said\"\n"
     ]
    }
   ],
   "source": [
    "print(quote.rstrip())"
   ]
  },
  {
   "cell_type": "code",
   "execution_count": null,
   "id": "af778ca2-abef-4d61-81cc-bcb349432a44",
   "metadata": {},
   "outputs": [],
   "source": []
  },
  {
   "cell_type": "markdown",
   "id": "6d2a0c5e-0646-47b0-a2db-5ea9c7190a9b",
   "metadata": {},
   "source": [
    "### Task 5"
   ]
  },
  {
   "cell_type": "code",
   "execution_count": 206,
   "id": "8e23a917-54af-42b9-98e0-892c0b15b9d4",
   "metadata": {},
   "outputs": [
    {
     "name": "stdin",
     "output_type": "stream",
     "text": [
      "Length of the first leg 5\n",
      "Length of the second leg 7\n"
     ]
    }
   ],
   "source": [
    "firstnumber = input('Length of the first leg')\n",
    "secondnumber = input('Length of the second leg')"
   ]
  },
  {
   "cell_type": "code",
   "execution_count": 212,
   "id": "70d5aad7-863e-4eb1-bce3-d88eb721516b",
   "metadata": {},
   "outputs": [
    {
     "ename": "TypeError",
     "evalue": "can't multiply sequence by non-int of type 'str'",
     "output_type": "error",
     "traceback": [
      "\u001b[0;31m---------------------------------------------------------------------------\u001b[0m",
      "\u001b[0;31mTypeError\u001b[0m                                 Traceback (most recent call last)",
      "Cell \u001b[0;32mIn[212], line 1\u001b[0m\n\u001b[0;32m----> 1\u001b[0m (firstnumber) \u001b[38;5;241m*\u001b[39m (secondnumber)\n",
      "\u001b[0;31mTypeError\u001b[0m: can't multiply sequence by non-int of type 'str'"
     ]
    }
   ],
   "source": [
    "√(firstnumber)"
   ]
  },
  {
   "cell_type": "code",
   "execution_count": null,
   "id": "11d26e59-ee7c-48dc-b73c-677583226e92",
   "metadata": {},
   "outputs": [],
   "source": []
  }
 ],
 "metadata": {
  "kernelspec": {
   "display_name": "Python 3 (ipykernel)",
   "language": "python",
   "name": "python3"
  },
  "language_info": {
   "codemirror_mode": {
    "name": "ipython",
    "version": 3
   },
   "file_extension": ".py",
   "mimetype": "text/x-python",
   "name": "python",
   "nbconvert_exporter": "python",
   "pygments_lexer": "ipython3",
   "version": "3.12.4"
  }
 },
 "nbformat": 4,
 "nbformat_minor": 5
}
