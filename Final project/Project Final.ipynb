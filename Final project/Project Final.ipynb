{
 "cells": [
  {
   "cell_type": "code",
   "execution_count": 5,
   "id": "b4341d46-e615-4aef-9605-b2dcbac5f6a6",
   "metadata": {},
   "outputs": [
    {
     "name": "stdout",
     "output_type": "stream",
     "text": [
      "Requirement already satisfied: opendatasets in /opt/anaconda3/lib/python3.12/site-packages (0.1.22)\n",
      "Requirement already satisfied: tqdm in /opt/anaconda3/lib/python3.12/site-packages (from opendatasets) (4.66.4)\n",
      "Requirement already satisfied: kaggle in /opt/anaconda3/lib/python3.12/site-packages (from opendatasets) (1.6.17)\n",
      "Requirement already satisfied: click in /opt/anaconda3/lib/python3.12/site-packages (from opendatasets) (8.1.7)\n",
      "Requirement already satisfied: six>=1.10 in /opt/anaconda3/lib/python3.12/site-packages (from kaggle->opendatasets) (1.16.0)\n",
      "Requirement already satisfied: certifi>=2023.7.22 in /opt/anaconda3/lib/python3.12/site-packages (from kaggle->opendatasets) (2024.7.4)\n",
      "Requirement already satisfied: python-dateutil in /opt/anaconda3/lib/python3.12/site-packages (from kaggle->opendatasets) (2.9.0.post0)\n",
      "Requirement already satisfied: requests in /opt/anaconda3/lib/python3.12/site-packages (from kaggle->opendatasets) (2.32.2)\n",
      "Requirement already satisfied: python-slugify in /opt/anaconda3/lib/python3.12/site-packages (from kaggle->opendatasets) (5.0.2)\n",
      "Requirement already satisfied: urllib3 in /opt/anaconda3/lib/python3.12/site-packages (from kaggle->opendatasets) (2.2.2)\n",
      "Requirement already satisfied: bleach in /opt/anaconda3/lib/python3.12/site-packages (from kaggle->opendatasets) (4.1.0)\n",
      "Requirement already satisfied: packaging in /opt/anaconda3/lib/python3.12/site-packages (from bleach->kaggle->opendatasets) (23.2)\n",
      "Requirement already satisfied: webencodings in /opt/anaconda3/lib/python3.12/site-packages (from bleach->kaggle->opendatasets) (0.5.1)\n",
      "Requirement already satisfied: text-unidecode>=1.3 in /opt/anaconda3/lib/python3.12/site-packages (from python-slugify->kaggle->opendatasets) (1.3)\n",
      "Requirement already satisfied: charset-normalizer<4,>=2 in /opt/anaconda3/lib/python3.12/site-packages (from requests->kaggle->opendatasets) (2.0.4)\n",
      "Requirement already satisfied: idna<4,>=2.5 in /opt/anaconda3/lib/python3.12/site-packages (from requests->kaggle->opendatasets) (3.7)\n"
     ]
    }
   ],
   "source": [
    "!pip install opendatasets"
   ]
  },
  {
   "cell_type": "code",
   "execution_count": 116,
   "id": "e3724a45-9d82-46dc-8ad9-8276b49ae686",
   "metadata": {},
   "outputs": [
    {
     "data": {
      "text/plain": [
       "['AwardsManagers.csv',\n",
       " 'Managers.csv',\n",
       " 'AwardsPlayers.csv',\n",
       " 'Fielding.csv',\n",
       " 'Salaries.csv',\n",
       " 'PitchingPost.csv',\n",
       " 'Teams.csv',\n",
       " 'AwardsSharePlayers.csv',\n",
       " 'TeamsFranchises.csv',\n",
       " 'Batting.csv',\n",
       " 'ManagersHalf.csv',\n",
       " 'FieldingOF.csv',\n",
       " 'Pitching.csv',\n",
       " 'Master.csv',\n",
       " 'HallOfFame.csv',\n",
       " 'AwardsShareManagers.csv',\n",
       " 'BattingPost.csv',\n",
       " 'TeamsHalf.csv',\n",
       " 'SeriesPost.csv',\n",
       " 'AllstarFull.csv']"
      ]
     },
     "execution_count": 116,
     "metadata": {},
     "output_type": "execute_result"
    }
   ],
   "source": [
    "os.listdir(data_dir)"
   ]
  },
  {
   "cell_type": "code",
   "execution_count": 118,
   "id": "88c8d190-caeb-48b4-823a-1d11e379ddcd",
   "metadata": {},
   "outputs": [],
   "source": [
    "import pandas as pd"
   ]
  },
  {
   "cell_type": "code",
   "execution_count": 120,
   "id": "f449e8f5-3c30-4f8b-9058-cadfa579d4c7",
   "metadata": {},
   "outputs": [],
   "source": [
    "pitching_df= pd.read_csv('Pitching.csv') "
   ]
  },
  {
   "cell_type": "code",
   "execution_count": 122,
   "id": "c376c698-24e3-4550-b6a6-ee3f817ae8ba",
   "metadata": {},
   "outputs": [
    {
     "data": {
      "text/plain": [
       "(44139, 30)"
      ]
     },
     "execution_count": 122,
     "metadata": {},
     "output_type": "execute_result"
    }
   ],
   "source": [
    "pitching_df.shape"
   ]
  },
  {
   "cell_type": "code",
   "execution_count": 124,
   "id": "145a074f-d938-483e-afbe-ff5867bed313",
   "metadata": {},
   "outputs": [
    {
     "data": {
      "text/html": [
       "<div>\n",
       "<style scoped>\n",
       "    .dataframe tbody tr th:only-of-type {\n",
       "        vertical-align: middle;\n",
       "    }\n",
       "\n",
       "    .dataframe tbody tr th {\n",
       "        vertical-align: top;\n",
       "    }\n",
       "\n",
       "    .dataframe thead th {\n",
       "        text-align: right;\n",
       "    }\n",
       "</style>\n",
       "<table border=\"1\" class=\"dataframe\">\n",
       "  <thead>\n",
       "    <tr style=\"text-align: right;\">\n",
       "      <th></th>\n",
       "      <th>playerID</th>\n",
       "      <th>yearID</th>\n",
       "      <th>stint</th>\n",
       "      <th>teamID</th>\n",
       "      <th>lgID</th>\n",
       "      <th>W</th>\n",
       "      <th>L</th>\n",
       "      <th>G</th>\n",
       "      <th>GS</th>\n",
       "      <th>CG</th>\n",
       "      <th>...</th>\n",
       "      <th>IBB</th>\n",
       "      <th>WP</th>\n",
       "      <th>HBP</th>\n",
       "      <th>BK</th>\n",
       "      <th>BFP</th>\n",
       "      <th>GF</th>\n",
       "      <th>R</th>\n",
       "      <th>SH</th>\n",
       "      <th>SF</th>\n",
       "      <th>GIDP</th>\n",
       "    </tr>\n",
       "  </thead>\n",
       "  <tbody>\n",
       "    <tr>\n",
       "      <th>0</th>\n",
       "      <td>bechtge01</td>\n",
       "      <td>1871</td>\n",
       "      <td>1</td>\n",
       "      <td>PH1</td>\n",
       "      <td>NaN</td>\n",
       "      <td>1</td>\n",
       "      <td>2</td>\n",
       "      <td>3</td>\n",
       "      <td>3</td>\n",
       "      <td>2</td>\n",
       "      <td>...</td>\n",
       "      <td>NaN</td>\n",
       "      <td>NaN</td>\n",
       "      <td>NaN</td>\n",
       "      <td>0</td>\n",
       "      <td>NaN</td>\n",
       "      <td>NaN</td>\n",
       "      <td>42</td>\n",
       "      <td>NaN</td>\n",
       "      <td>NaN</td>\n",
       "      <td>NaN</td>\n",
       "    </tr>\n",
       "    <tr>\n",
       "      <th>1</th>\n",
       "      <td>brainas01</td>\n",
       "      <td>1871</td>\n",
       "      <td>1</td>\n",
       "      <td>WS3</td>\n",
       "      <td>NaN</td>\n",
       "      <td>12</td>\n",
       "      <td>15</td>\n",
       "      <td>30</td>\n",
       "      <td>30</td>\n",
       "      <td>30</td>\n",
       "      <td>...</td>\n",
       "      <td>NaN</td>\n",
       "      <td>NaN</td>\n",
       "      <td>NaN</td>\n",
       "      <td>0</td>\n",
       "      <td>NaN</td>\n",
       "      <td>NaN</td>\n",
       "      <td>292</td>\n",
       "      <td>NaN</td>\n",
       "      <td>NaN</td>\n",
       "      <td>NaN</td>\n",
       "    </tr>\n",
       "    <tr>\n",
       "      <th>2</th>\n",
       "      <td>fergubo01</td>\n",
       "      <td>1871</td>\n",
       "      <td>1</td>\n",
       "      <td>NY2</td>\n",
       "      <td>NaN</td>\n",
       "      <td>0</td>\n",
       "      <td>0</td>\n",
       "      <td>1</td>\n",
       "      <td>0</td>\n",
       "      <td>0</td>\n",
       "      <td>...</td>\n",
       "      <td>NaN</td>\n",
       "      <td>NaN</td>\n",
       "      <td>NaN</td>\n",
       "      <td>0</td>\n",
       "      <td>NaN</td>\n",
       "      <td>NaN</td>\n",
       "      <td>9</td>\n",
       "      <td>NaN</td>\n",
       "      <td>NaN</td>\n",
       "      <td>NaN</td>\n",
       "    </tr>\n",
       "    <tr>\n",
       "      <th>3</th>\n",
       "      <td>fishech01</td>\n",
       "      <td>1871</td>\n",
       "      <td>1</td>\n",
       "      <td>RC1</td>\n",
       "      <td>NaN</td>\n",
       "      <td>4</td>\n",
       "      <td>16</td>\n",
       "      <td>24</td>\n",
       "      <td>24</td>\n",
       "      <td>22</td>\n",
       "      <td>...</td>\n",
       "      <td>NaN</td>\n",
       "      <td>NaN</td>\n",
       "      <td>NaN</td>\n",
       "      <td>0</td>\n",
       "      <td>NaN</td>\n",
       "      <td>NaN</td>\n",
       "      <td>257</td>\n",
       "      <td>NaN</td>\n",
       "      <td>NaN</td>\n",
       "      <td>NaN</td>\n",
       "    </tr>\n",
       "    <tr>\n",
       "      <th>4</th>\n",
       "      <td>fleetfr01</td>\n",
       "      <td>1871</td>\n",
       "      <td>1</td>\n",
       "      <td>NY2</td>\n",
       "      <td>NaN</td>\n",
       "      <td>0</td>\n",
       "      <td>1</td>\n",
       "      <td>1</td>\n",
       "      <td>1</td>\n",
       "      <td>1</td>\n",
       "      <td>...</td>\n",
       "      <td>NaN</td>\n",
       "      <td>NaN</td>\n",
       "      <td>NaN</td>\n",
       "      <td>0</td>\n",
       "      <td>NaN</td>\n",
       "      <td>NaN</td>\n",
       "      <td>21</td>\n",
       "      <td>NaN</td>\n",
       "      <td>NaN</td>\n",
       "      <td>NaN</td>\n",
       "    </tr>\n",
       "    <tr>\n",
       "      <th>...</th>\n",
       "      <td>...</td>\n",
       "      <td>...</td>\n",
       "      <td>...</td>\n",
       "      <td>...</td>\n",
       "      <td>...</td>\n",
       "      <td>...</td>\n",
       "      <td>...</td>\n",
       "      <td>...</td>\n",
       "      <td>...</td>\n",
       "      <td>...</td>\n",
       "      <td>...</td>\n",
       "      <td>...</td>\n",
       "      <td>...</td>\n",
       "      <td>...</td>\n",
       "      <td>...</td>\n",
       "      <td>...</td>\n",
       "      <td>...</td>\n",
       "      <td>...</td>\n",
       "      <td>...</td>\n",
       "      <td>...</td>\n",
       "      <td>...</td>\n",
       "    </tr>\n",
       "    <tr>\n",
       "      <th>44134</th>\n",
       "      <td>youngch03</td>\n",
       "      <td>2015</td>\n",
       "      <td>1</td>\n",
       "      <td>KCA</td>\n",
       "      <td>AL</td>\n",
       "      <td>11</td>\n",
       "      <td>6</td>\n",
       "      <td>34</td>\n",
       "      <td>18</td>\n",
       "      <td>0</td>\n",
       "      <td>...</td>\n",
       "      <td>0.0</td>\n",
       "      <td>5.0</td>\n",
       "      <td>0.0</td>\n",
       "      <td>0</td>\n",
       "      <td>500.0</td>\n",
       "      <td>3.0</td>\n",
       "      <td>44</td>\n",
       "      <td>4.0</td>\n",
       "      <td>2.0</td>\n",
       "      <td>NaN</td>\n",
       "    </tr>\n",
       "    <tr>\n",
       "      <th>44135</th>\n",
       "      <td>zieglbr01</td>\n",
       "      <td>2015</td>\n",
       "      <td>1</td>\n",
       "      <td>ARI</td>\n",
       "      <td>NL</td>\n",
       "      <td>0</td>\n",
       "      <td>3</td>\n",
       "      <td>66</td>\n",
       "      <td>0</td>\n",
       "      <td>0</td>\n",
       "      <td>...</td>\n",
       "      <td>3.0</td>\n",
       "      <td>2.0</td>\n",
       "      <td>1.0</td>\n",
       "      <td>0</td>\n",
       "      <td>263.0</td>\n",
       "      <td>46.0</td>\n",
       "      <td>17</td>\n",
       "      <td>1.0</td>\n",
       "      <td>0.0</td>\n",
       "      <td>NaN</td>\n",
       "    </tr>\n",
       "    <tr>\n",
       "      <th>44136</th>\n",
       "      <td>zimmejo02</td>\n",
       "      <td>2015</td>\n",
       "      <td>1</td>\n",
       "      <td>WAS</td>\n",
       "      <td>NL</td>\n",
       "      <td>13</td>\n",
       "      <td>10</td>\n",
       "      <td>33</td>\n",
       "      <td>33</td>\n",
       "      <td>0</td>\n",
       "      <td>...</td>\n",
       "      <td>3.0</td>\n",
       "      <td>2.0</td>\n",
       "      <td>8.0</td>\n",
       "      <td>1</td>\n",
       "      <td>831.0</td>\n",
       "      <td>0.0</td>\n",
       "      <td>89</td>\n",
       "      <td>8.0</td>\n",
       "      <td>2.0</td>\n",
       "      <td>NaN</td>\n",
       "    </tr>\n",
       "    <tr>\n",
       "      <th>44137</th>\n",
       "      <td>zitoba01</td>\n",
       "      <td>2015</td>\n",
       "      <td>1</td>\n",
       "      <td>OAK</td>\n",
       "      <td>AL</td>\n",
       "      <td>0</td>\n",
       "      <td>0</td>\n",
       "      <td>3</td>\n",
       "      <td>2</td>\n",
       "      <td>0</td>\n",
       "      <td>...</td>\n",
       "      <td>0.0</td>\n",
       "      <td>0.0</td>\n",
       "      <td>0.0</td>\n",
       "      <td>0</td>\n",
       "      <td>37.0</td>\n",
       "      <td>1.0</td>\n",
       "      <td>8</td>\n",
       "      <td>0.0</td>\n",
       "      <td>0.0</td>\n",
       "      <td>NaN</td>\n",
       "    </tr>\n",
       "    <tr>\n",
       "      <th>44138</th>\n",
       "      <td>zychto01</td>\n",
       "      <td>2015</td>\n",
       "      <td>1</td>\n",
       "      <td>SEA</td>\n",
       "      <td>AL</td>\n",
       "      <td>0</td>\n",
       "      <td>0</td>\n",
       "      <td>13</td>\n",
       "      <td>1</td>\n",
       "      <td>0</td>\n",
       "      <td>...</td>\n",
       "      <td>0.0</td>\n",
       "      <td>1.0</td>\n",
       "      <td>2.0</td>\n",
       "      <td>0</td>\n",
       "      <td>76.0</td>\n",
       "      <td>4.0</td>\n",
       "      <td>6</td>\n",
       "      <td>0.0</td>\n",
       "      <td>0.0</td>\n",
       "      <td>NaN</td>\n",
       "    </tr>\n",
       "  </tbody>\n",
       "</table>\n",
       "<p>44139 rows × 30 columns</p>\n",
       "</div>"
      ],
      "text/plain": [
       "        playerID  yearID  stint teamID lgID   W   L   G  GS  CG  ...  IBB  \\\n",
       "0      bechtge01    1871      1    PH1  NaN   1   2   3   3   2  ...  NaN   \n",
       "1      brainas01    1871      1    WS3  NaN  12  15  30  30  30  ...  NaN   \n",
       "2      fergubo01    1871      1    NY2  NaN   0   0   1   0   0  ...  NaN   \n",
       "3      fishech01    1871      1    RC1  NaN   4  16  24  24  22  ...  NaN   \n",
       "4      fleetfr01    1871      1    NY2  NaN   0   1   1   1   1  ...  NaN   \n",
       "...          ...     ...    ...    ...  ...  ..  ..  ..  ..  ..  ...  ...   \n",
       "44134  youngch03    2015      1    KCA   AL  11   6  34  18   0  ...  0.0   \n",
       "44135  zieglbr01    2015      1    ARI   NL   0   3  66   0   0  ...  3.0   \n",
       "44136  zimmejo02    2015      1    WAS   NL  13  10  33  33   0  ...  3.0   \n",
       "44137   zitoba01    2015      1    OAK   AL   0   0   3   2   0  ...  0.0   \n",
       "44138   zychto01    2015      1    SEA   AL   0   0  13   1   0  ...  0.0   \n",
       "\n",
       "        WP  HBP  BK    BFP    GF    R   SH   SF  GIDP  \n",
       "0      NaN  NaN   0    NaN   NaN   42  NaN  NaN   NaN  \n",
       "1      NaN  NaN   0    NaN   NaN  292  NaN  NaN   NaN  \n",
       "2      NaN  NaN   0    NaN   NaN    9  NaN  NaN   NaN  \n",
       "3      NaN  NaN   0    NaN   NaN  257  NaN  NaN   NaN  \n",
       "4      NaN  NaN   0    NaN   NaN   21  NaN  NaN   NaN  \n",
       "...    ...  ...  ..    ...   ...  ...  ...  ...   ...  \n",
       "44134  5.0  0.0   0  500.0   3.0   44  4.0  2.0   NaN  \n",
       "44135  2.0  1.0   0  263.0  46.0   17  1.0  0.0   NaN  \n",
       "44136  2.0  8.0   1  831.0   0.0   89  8.0  2.0   NaN  \n",
       "44137  0.0  0.0   0   37.0   1.0    8  0.0  0.0   NaN  \n",
       "44138  1.0  2.0   0   76.0   4.0    6  0.0  0.0   NaN  \n",
       "\n",
       "[44139 rows x 30 columns]"
      ]
     },
     "execution_count": 124,
     "metadata": {},
     "output_type": "execute_result"
    }
   ],
   "source": [
    "pitching_df"
   ]
  },
  {
   "cell_type": "code",
   "execution_count": 126,
   "id": "9d35215e-8289-4fd4-a851-edf7cb0f25d9",
   "metadata": {},
   "outputs": [
    {
     "data": {
      "text/plain": [
       "Index(['playerID', 'yearID', 'stint', 'teamID', 'lgID', 'W', 'L', 'G', 'GS',\n",
       "       'CG', 'SHO', 'SV', 'IPouts', 'H', 'ER', 'HR', 'BB', 'SO', 'BAOpp',\n",
       "       'ERA', 'IBB', 'WP', 'HBP', 'BK', 'BFP', 'GF', 'R', 'SH', 'SF', 'GIDP'],\n",
       "      dtype='object')"
      ]
     },
     "execution_count": 126,
     "metadata": {},
     "output_type": "execute_result"
    }
   ],
   "source": [
    "pitching_df.columns"
   ]
  },
  {
   "cell_type": "markdown",
   "id": "9fb20e98-3519-4fd1-b426-a10162de5e88",
   "metadata": {},
   "source": [
    "# Numeric Columns"
   ]
  },
  {
   "cell_type": "code",
   "execution_count": 242,
   "id": "d3a52202-99d4-48ba-8211-7c99aa6292bb",
   "metadata": {},
   "outputs": [
    {
     "data": {
      "text/html": [
       "<div>\n",
       "<style scoped>\n",
       "    .dataframe tbody tr th:only-of-type {\n",
       "        vertical-align: middle;\n",
       "    }\n",
       "\n",
       "    .dataframe tbody tr th {\n",
       "        vertical-align: top;\n",
       "    }\n",
       "\n",
       "    .dataframe thead th {\n",
       "        text-align: right;\n",
       "    }\n",
       "</style>\n",
       "<table border=\"1\" class=\"dataframe\">\n",
       "  <thead>\n",
       "    <tr style=\"text-align: right;\">\n",
       "      <th></th>\n",
       "      <th>playerID</th>\n",
       "      <th>W</th>\n",
       "      <th>L</th>\n",
       "    </tr>\n",
       "  </thead>\n",
       "  <tbody>\n",
       "    <tr>\n",
       "      <th>0</th>\n",
       "      <td>bechtge01</td>\n",
       "      <td>1</td>\n",
       "      <td>2</td>\n",
       "    </tr>\n",
       "    <tr>\n",
       "      <th>1</th>\n",
       "      <td>brainas01</td>\n",
       "      <td>12</td>\n",
       "      <td>15</td>\n",
       "    </tr>\n",
       "    <tr>\n",
       "      <th>2</th>\n",
       "      <td>fergubo01</td>\n",
       "      <td>0</td>\n",
       "      <td>0</td>\n",
       "    </tr>\n",
       "    <tr>\n",
       "      <th>3</th>\n",
       "      <td>fishech01</td>\n",
       "      <td>4</td>\n",
       "      <td>16</td>\n",
       "    </tr>\n",
       "    <tr>\n",
       "      <th>4</th>\n",
       "      <td>fleetfr01</td>\n",
       "      <td>0</td>\n",
       "      <td>1</td>\n",
       "    </tr>\n",
       "    <tr>\n",
       "      <th>...</th>\n",
       "      <td>...</td>\n",
       "      <td>...</td>\n",
       "      <td>...</td>\n",
       "    </tr>\n",
       "    <tr>\n",
       "      <th>44134</th>\n",
       "      <td>youngch03</td>\n",
       "      <td>11</td>\n",
       "      <td>6</td>\n",
       "    </tr>\n",
       "    <tr>\n",
       "      <th>44135</th>\n",
       "      <td>zieglbr01</td>\n",
       "      <td>0</td>\n",
       "      <td>3</td>\n",
       "    </tr>\n",
       "    <tr>\n",
       "      <th>44136</th>\n",
       "      <td>zimmejo02</td>\n",
       "      <td>13</td>\n",
       "      <td>10</td>\n",
       "    </tr>\n",
       "    <tr>\n",
       "      <th>44137</th>\n",
       "      <td>zitoba01</td>\n",
       "      <td>0</td>\n",
       "      <td>0</td>\n",
       "    </tr>\n",
       "    <tr>\n",
       "      <th>44138</th>\n",
       "      <td>zychto01</td>\n",
       "      <td>0</td>\n",
       "      <td>0</td>\n",
       "    </tr>\n",
       "  </tbody>\n",
       "</table>\n",
       "<p>44139 rows × 3 columns</p>\n",
       "</div>"
      ],
      "text/plain": [
       "        playerID   W   L\n",
       "0      bechtge01   1   2\n",
       "1      brainas01  12  15\n",
       "2      fergubo01   0   0\n",
       "3      fishech01   4  16\n",
       "4      fleetfr01   0   1\n",
       "...          ...  ..  ..\n",
       "44134  youngch03  11   6\n",
       "44135  zieglbr01   0   3\n",
       "44136  zimmejo02  13  10\n",
       "44137   zitoba01   0   0\n",
       "44138   zychto01   0   0\n",
       "\n",
       "[44139 rows x 3 columns]"
      ]
     },
     "execution_count": 242,
     "metadata": {},
     "output_type": "execute_result"
    }
   ],
   "source": [
    "pitching_df_category1 = pitching_df [['playerID','W','L']]\n",
    "pitching_df_category1"
   ]
  },
  {
   "cell_type": "markdown",
   "id": "31c73900-41b1-4474-a7e0-ea7c627f9a9a",
   "metadata": {},
   "source": [
    "# Categorical Columns"
   ]
  },
  {
   "cell_type": "code",
   "execution_count": 302,
   "id": "ea96573b-8064-488a-9e77-259bfc9a10ff",
   "metadata": {},
   "outputs": [
    {
     "data": {
      "text/html": [
       "<div>\n",
       "<style scoped>\n",
       "    .dataframe tbody tr th:only-of-type {\n",
       "        vertical-align: middle;\n",
       "    }\n",
       "\n",
       "    .dataframe tbody tr th {\n",
       "        vertical-align: top;\n",
       "    }\n",
       "\n",
       "    .dataframe thead th {\n",
       "        text-align: right;\n",
       "    }\n",
       "</style>\n",
       "<table border=\"1\" class=\"dataframe\">\n",
       "  <thead>\n",
       "    <tr style=\"text-align: right;\">\n",
       "      <th></th>\n",
       "      <th>playerID</th>\n",
       "      <th>SO</th>\n",
       "      <th>H</th>\n",
       "    </tr>\n",
       "  </thead>\n",
       "  <tbody>\n",
       "    <tr>\n",
       "      <th>0</th>\n",
       "      <td>bechtge01</td>\n",
       "      <td>1</td>\n",
       "      <td>43</td>\n",
       "    </tr>\n",
       "    <tr>\n",
       "      <th>1</th>\n",
       "      <td>brainas01</td>\n",
       "      <td>13</td>\n",
       "      <td>361</td>\n",
       "    </tr>\n",
       "    <tr>\n",
       "      <th>2</th>\n",
       "      <td>fergubo01</td>\n",
       "      <td>0</td>\n",
       "      <td>8</td>\n",
       "    </tr>\n",
       "    <tr>\n",
       "      <th>3</th>\n",
       "      <td>fishech01</td>\n",
       "      <td>15</td>\n",
       "      <td>295</td>\n",
       "    </tr>\n",
       "    <tr>\n",
       "      <th>4</th>\n",
       "      <td>fleetfr01</td>\n",
       "      <td>0</td>\n",
       "      <td>20</td>\n",
       "    </tr>\n",
       "    <tr>\n",
       "      <th>...</th>\n",
       "      <td>...</td>\n",
       "      <td>...</td>\n",
       "      <td>...</td>\n",
       "    </tr>\n",
       "    <tr>\n",
       "      <th>44134</th>\n",
       "      <td>youngch03</td>\n",
       "      <td>83</td>\n",
       "      <td>91</td>\n",
       "    </tr>\n",
       "    <tr>\n",
       "      <th>44135</th>\n",
       "      <td>zieglbr01</td>\n",
       "      <td>36</td>\n",
       "      <td>48</td>\n",
       "    </tr>\n",
       "    <tr>\n",
       "      <th>44136</th>\n",
       "      <td>zimmejo02</td>\n",
       "      <td>164</td>\n",
       "      <td>204</td>\n",
       "    </tr>\n",
       "    <tr>\n",
       "      <th>44137</th>\n",
       "      <td>zitoba01</td>\n",
       "      <td>2</td>\n",
       "      <td>12</td>\n",
       "    </tr>\n",
       "    <tr>\n",
       "      <th>44138</th>\n",
       "      <td>zychto01</td>\n",
       "      <td>24</td>\n",
       "      <td>17</td>\n",
       "    </tr>\n",
       "  </tbody>\n",
       "</table>\n",
       "<p>44139 rows × 3 columns</p>\n",
       "</div>"
      ],
      "text/plain": [
       "        playerID   SO    H\n",
       "0      bechtge01    1   43\n",
       "1      brainas01   13  361\n",
       "2      fergubo01    0    8\n",
       "3      fishech01   15  295\n",
       "4      fleetfr01    0   20\n",
       "...          ...  ...  ...\n",
       "44134  youngch03   83   91\n",
       "44135  zieglbr01   36   48\n",
       "44136  zimmejo02  164  204\n",
       "44137   zitoba01    2   12\n",
       "44138   zychto01   24   17\n",
       "\n",
       "[44139 rows x 3 columns]"
      ]
     },
     "execution_count": 302,
     "metadata": {},
     "output_type": "execute_result"
    }
   ],
   "source": [
    "pitching_df_category2 = pitching_df [['playerID','SO','H']]\n",
    "pitching_df_category2"
   ]
  },
  {
   "cell_type": "markdown",
   "id": "f9f321dc-3ef9-4a34-a809-aab2c40577d0",
   "metadata": {},
   "source": [
    "# Task 2 Part i"
   ]
  },
  {
   "cell_type": "code",
   "execution_count": 279,
   "id": "f092a09e-9b00-41c2-8b85-7c5f897a9caa",
   "metadata": {},
   "outputs": [],
   "source": [
    "numcom1 = pitching_df_category1['W']\n",
    "numcom2 = pitching_df_category1['L']"
   ]
  },
  {
   "cell_type": "code",
   "execution_count": 336,
   "id": "33b4cc19-e22e-4b17-891b-33e77ea33d2d",
   "metadata": {},
   "outputs": [],
   "source": [
    "nmean1 = numcom1.mean()\n",
    "nmax1 = numcom1.max()\n",
    "nmin1 = numcom1.min()\n",
    "nstd1 = numcom1.std()\n",
    "nrange1 = nmax1- nmin1\n",
    "nmedian1= numcom1.median()"
   ]
  },
  {
   "cell_type": "code",
   "execution_count": 338,
   "id": "96b0d87b-fa59-45e5-84e0-de185ec893f4",
   "metadata": {},
   "outputs": [],
   "source": [
    "nmean2 = numcom2.mean()\n",
    "nmax2 = numcom2.max()\n",
    "nmin2 = numcom2.min()\n",
    "nstd2 = numcom2.std()\n",
    "nrange2 = nmax2- nmin2\n",
    "nmedian2= numcom2.median()"
   ]
  },
  {
   "cell_type": "code",
   "execution_count": 340,
   "id": "a558bf94-54e0-49d0-98a1-eee46a44daeb",
   "metadata": {},
   "outputs": [
    {
     "data": {
      "text/plain": [
       "4.74879358390539"
      ]
     },
     "execution_count": 340,
     "metadata": {},
     "output_type": "execute_result"
    }
   ],
   "source": [
    "nmean1"
   ]
  },
  {
   "cell_type": "code",
   "execution_count": 342,
   "id": "ce346cee-db8b-48f5-9e3f-5bc3ae9744dd",
   "metadata": {},
   "outputs": [
    {
     "data": {
      "text/plain": [
       "4.748770928204083"
      ]
     },
     "execution_count": 342,
     "metadata": {},
     "output_type": "execute_result"
    }
   ],
   "source": [
    "nmean2"
   ]
  },
  {
   "cell_type": "code",
   "execution_count": 344,
   "id": "b043aa36-79d4-471e-add1-84711aabd0a9",
   "metadata": {},
   "outputs": [
    {
     "data": {
      "text/plain": [
       "59"
      ]
     },
     "execution_count": 344,
     "metadata": {},
     "output_type": "execute_result"
    }
   ],
   "source": [
    "nmax1"
   ]
  },
  {
   "cell_type": "code",
   "execution_count": 346,
   "id": "9e90db4a-02f9-4030-a146-c44f02a741f6",
   "metadata": {},
   "outputs": [
    {
     "data": {
      "text/plain": [
       "48"
      ]
     },
     "execution_count": 346,
     "metadata": {},
     "output_type": "execute_result"
    }
   ],
   "source": [
    "nmax2"
   ]
  },
  {
   "cell_type": "code",
   "execution_count": 348,
   "id": "a6f7f9db-c9b5-4bc7-a6c7-92fc8e75b3ce",
   "metadata": {},
   "outputs": [
    {
     "data": {
      "text/plain": [
       "0"
      ]
     },
     "execution_count": 348,
     "metadata": {},
     "output_type": "execute_result"
    }
   ],
   "source": [
    "nmin1"
   ]
  },
  {
   "cell_type": "code",
   "execution_count": 350,
   "id": "39373ea1-46e3-4771-9d82-854eb02a5986",
   "metadata": {},
   "outputs": [
    {
     "data": {
      "text/plain": [
       "0"
      ]
     },
     "execution_count": 350,
     "metadata": {},
     "output_type": "execute_result"
    }
   ],
   "source": [
    "nmin2"
   ]
  },
  {
   "cell_type": "code",
   "execution_count": 352,
   "id": "e2e4392e-2477-45e0-9adb-7796655fb357",
   "metadata": {},
   "outputs": [
    {
     "data": {
      "text/plain": [
       "5.8379894006742665"
      ]
     },
     "execution_count": 352,
     "metadata": {},
     "output_type": "execute_result"
    }
   ],
   "source": [
    "nstd1"
   ]
  },
  {
   "cell_type": "code",
   "execution_count": 354,
   "id": "61015db6-3620-4021-b336-34992666f58a",
   "metadata": {},
   "outputs": [
    {
     "data": {
      "text/plain": [
       "5.007079859603707"
      ]
     },
     "execution_count": 354,
     "metadata": {},
     "output_type": "execute_result"
    }
   ],
   "source": [
    "nstd2"
   ]
  },
  {
   "cell_type": "code",
   "execution_count": 356,
   "id": "5ac4ba4d-4025-4f64-b732-2e63c1bd72ef",
   "metadata": {},
   "outputs": [
    {
     "data": {
      "text/plain": [
       "59"
      ]
     },
     "execution_count": 356,
     "metadata": {},
     "output_type": "execute_result"
    }
   ],
   "source": [
    "nrange1"
   ]
  },
  {
   "cell_type": "code",
   "execution_count": 358,
   "id": "568f24f6-20be-41db-a650-b89cef5b3b30",
   "metadata": {},
   "outputs": [
    {
     "data": {
      "text/plain": [
       "48"
      ]
     },
     "execution_count": 358,
     "metadata": {},
     "output_type": "execute_result"
    }
   ],
   "source": [
    "nrange2"
   ]
  },
  {
   "cell_type": "code",
   "execution_count": 360,
   "id": "d0aa64f2-1f32-4601-8bbe-412c8dd8a913",
   "metadata": {},
   "outputs": [
    {
     "data": {
      "text/plain": [
       "2.0"
      ]
     },
     "execution_count": 360,
     "metadata": {},
     "output_type": "execute_result"
    }
   ],
   "source": [
    "nmedian1"
   ]
  },
  {
   "cell_type": "code",
   "execution_count": 362,
   "id": "658b039b-b39c-4e70-8c31-f5b5c134d47b",
   "metadata": {},
   "outputs": [
    {
     "data": {
      "text/plain": [
       "3.0"
      ]
     },
     "execution_count": 362,
     "metadata": {},
     "output_type": "execute_result"
    }
   ],
   "source": [
    "nmedian2"
   ]
  },
  {
   "cell_type": "markdown",
   "id": "c8bf5646-477c-4f8a-a5b9-5fbce8e0bd6f",
   "metadata": {},
   "source": [
    "# Task 2 Part ii"
   ]
  },
  {
   "cell_type": "code",
   "execution_count": 304,
   "id": "43131692-a37d-4b5d-9301-5215937d0b77",
   "metadata": {},
   "outputs": [],
   "source": [
    "catcom1 = pitching_df_category2['SO']\n",
    "catcom2 = pitching_df_category2['H']"
   ]
  },
  {
   "cell_type": "code",
   "execution_count": 364,
   "id": "af676aad-0aec-4469-a16e-f4d3905b47b9",
   "metadata": {},
   "outputs": [],
   "source": [
    "cmean1 = catcom1.mean()\n",
    "cmax1 = catcom1.max()\n",
    "cmin1 = catcom1.min()\n",
    "cstd1 = catcom1.std()\n",
    "crange1 = cmax1- cmin1\n",
    "cmedian1= catcom1.median()"
   ]
  },
  {
   "cell_type": "code",
   "execution_count": 369,
   "id": "c2c6d851-6416-4f1d-8033-0ed930c4f631",
   "metadata": {},
   "outputs": [],
   "source": [
    "cmean2 = catcom2.mean()\n",
    "cmax2 = catcom2.max()\n",
    "cmin2 = catcom2.min()\n",
    "cstd2 = catcom2.std()\n",
    "crange2 = cmax2- cmin2\n",
    "cmedian2= catcom2.median()"
   ]
  },
  {
   "cell_type": "code",
   "execution_count": 366,
   "id": "b980aabf-96f8-408f-b33b-ff7b8af22fc2",
   "metadata": {},
   "outputs": [
    {
     "data": {
      "text/plain": [
       "46.48578354742971"
      ]
     },
     "execution_count": 366,
     "metadata": {},
     "output_type": "execute_result"
    }
   ],
   "source": [
    "cmean1"
   ]
  },
  {
   "cell_type": "code",
   "execution_count": 381,
   "id": "4fa8907c-bc16-4803-b288-ec921d17539c",
   "metadata": {},
   "outputs": [
    {
     "data": {
      "text/plain": [
       "85.53981739504746"
      ]
     },
     "execution_count": 381,
     "metadata": {},
     "output_type": "execute_result"
    }
   ],
   "source": [
    "cmean2"
   ]
  },
  {
   "cell_type": "code",
   "execution_count": 371,
   "id": "c1f2f0ab-8aee-482a-a968-d706e3c78aab",
   "metadata": {},
   "outputs": [
    {
     "data": {
      "text/plain": [
       "513"
      ]
     },
     "execution_count": 371,
     "metadata": {},
     "output_type": "execute_result"
    }
   ],
   "source": [
    "cmax1"
   ]
  },
  {
   "cell_type": "code",
   "execution_count": 383,
   "id": "cf06dc96-9d87-4b0f-8670-974be5d758e4",
   "metadata": {},
   "outputs": [
    {
     "data": {
      "text/plain": [
       "772"
      ]
     },
     "execution_count": 383,
     "metadata": {},
     "output_type": "execute_result"
    }
   ],
   "source": [
    "cmax2"
   ]
  },
  {
   "cell_type": "code",
   "execution_count": 373,
   "id": "989c2987-9b2d-405f-af10-b66c92108ca6",
   "metadata": {},
   "outputs": [
    {
     "data": {
      "text/plain": [
       "0"
      ]
     },
     "execution_count": 373,
     "metadata": {},
     "output_type": "execute_result"
    }
   ],
   "source": [
    "cmin1"
   ]
  },
  {
   "cell_type": "code",
   "execution_count": 385,
   "id": "8ec3256c-223e-430b-a5ca-43efb7852f9a",
   "metadata": {},
   "outputs": [
    {
     "data": {
      "text/plain": [
       "0"
      ]
     },
     "execution_count": 385,
     "metadata": {},
     "output_type": "execute_result"
    }
   ],
   "source": [
    "cmin2"
   ]
  },
  {
   "cell_type": "code",
   "execution_count": 375,
   "id": "871ee94f-c70b-427f-b18d-876d2e09befa",
   "metadata": {},
   "outputs": [
    {
     "data": {
      "text/plain": [
       "49.324516432235285"
      ]
     },
     "execution_count": 375,
     "metadata": {},
     "output_type": "execute_result"
    }
   ],
   "source": [
    "cstd1"
   ]
  },
  {
   "cell_type": "code",
   "execution_count": 387,
   "id": "0e92b76b-eff3-4c1f-94be-91749fb2e3b4",
   "metadata": {},
   "outputs": [
    {
     "data": {
      "text/plain": [
       "84.94774680703152"
      ]
     },
     "execution_count": 387,
     "metadata": {},
     "output_type": "execute_result"
    }
   ],
   "source": [
    "cstd2"
   ]
  },
  {
   "cell_type": "code",
   "execution_count": 377,
   "id": "b9f78cc8-af46-4301-8ff7-04e485e45825",
   "metadata": {},
   "outputs": [
    {
     "data": {
      "text/plain": [
       "513"
      ]
     },
     "execution_count": 377,
     "metadata": {},
     "output_type": "execute_result"
    }
   ],
   "source": [
    "crange1"
   ]
  },
  {
   "cell_type": "code",
   "execution_count": 389,
   "id": "c2576eb8-ec3f-4501-91dc-cf1398d48553",
   "metadata": {},
   "outputs": [
    {
     "data": {
      "text/plain": [
       "772"
      ]
     },
     "execution_count": 389,
     "metadata": {},
     "output_type": "execute_result"
    }
   ],
   "source": [
    "crange2"
   ]
  },
  {
   "cell_type": "code",
   "execution_count": 379,
   "id": "66b38a74-0bf6-45b2-b1bd-99600778b052",
   "metadata": {},
   "outputs": [
    {
     "data": {
      "text/plain": [
       "2.0"
      ]
     },
     "execution_count": 379,
     "metadata": {},
     "output_type": "execute_result"
    }
   ],
   "source": [
    "cmedian1"
   ]
  },
  {
   "cell_type": "code",
   "execution_count": 391,
   "id": "006b52d5-b3ad-4b77-92c2-133beb95396d",
   "metadata": {},
   "outputs": [
    {
     "data": {
      "text/plain": [
       "56.0"
      ]
     },
     "execution_count": 391,
     "metadata": {},
     "output_type": "execute_result"
    }
   ],
   "source": [
    "cmedian2"
   ]
  },
  {
   "cell_type": "markdown",
   "id": "73779172-4522-442d-ac7e-f102135443e7",
   "metadata": {},
   "source": [
    "# Task 3 Part i"
   ]
  },
  {
   "cell_type": "code",
   "execution_count": 627,
   "id": "1969b116-1f80-4285-a811-10bff9b53bb1",
   "metadata": {},
   "outputs": [
    {
     "data": {
      "image/png": "[encoded data removed]",
      "text/plain": [
       "<Figure size 800x600 with 1 Axes>"
      ]
     },
     "metadata": {},
     "output_type": "display_data"
    }
   ],
   "source": [
    "plt.figure(figsize=(8, 6))\n",
    "plt.scatter(x='SO', y='H', data=pitching_df)\n",
    "plt.title('Scatter Plot of Strikeouts vs Hits')\n",
    "plt.xlabel('SO')\n",
    "plt.ylabel('H')\n",
    "plt.show()"
   ]
  },
  {
   "cell_type": "markdown",
   "id": "3fefab55-66df-4e79-afbf-4f8f545809ed",
   "metadata": {},
   "source": [
    "# Task 3 part ii"
   ]
  },
  {
   "cell_type": "code",
   "execution_count": 659,
   "id": "8c65cca2-3253-41cb-8d26-26851385657b",
   "metadata": {},
   "outputs": [
    {
     "data": {
      "image/png": "[encoded data removed]",
      "text/plain": [
       "<Figure size 800x600 with 1 Axes>"
      ]
     },
     "metadata": {},
     "output_type": "display_data"
    }
   ],
   "source": [
    "plt.figure(figsize=(8, 6))\n",
    "plt.hist(pitching_df['SO'], bins=500)\n",
    "plt.title('Histogram of Strikeouts per Season')\n",
    "plt.xlabel('Strikeouts')\n",
    "plt.ylabel('Frequency')\n",
    "plt.show()"
   ]
  },
  {
   "cell_type": "code",
   "execution_count": 663,
   "id": "3d55767c-e141-4104-8ee9-4bead3762e7d",
   "metadata": {},
   "outputs": [
    {
     "data": {
      "image/png": "[encoded data removed]",
      "text/plain": [
       "<Figure size 800x600 with 1 Axes>"
      ]
     },
     "metadata": {},
     "output_type": "display_data"
    }
   ],
   "source": [
    "plt.figure(figsize=(8, 6))\n",
    "plt.hist(pitching_df['H'], bins=500)\n",
    "plt.title('Histogram of Hits Allowed')\n",
    "plt.xlabel('Hits Allowed per Season')\n",
    "plt.ylabel('Frequency')\n",
    "plt.show()\n"
   ]
  },
  {
   "cell_type": "markdown",
   "id": "44f3b1a5-69e8-4cc1-9076-caaac91671ec",
   "metadata": {},
   "source": [
    "# Task 3 Part iii"
   ]
  },
  {
   "cell_type": "code",
   "execution_count": 697,
   "id": "358af698-0403-4be4-b831-d68245b9d233",
   "metadata": {},
   "outputs": [
    {
     "data": {
      "image/png": "[encoded data removed]",
      "text/plain": [
       "<Figure size 1200x600 with 1 Axes>"
      ]
     },
     "metadata": {},
     "output_type": "display_data"
    }
   ],
   "source": [
    "plt.figure(figsize=(12, 6))\n",
    "plt.hist(data=pitching_df, x='yearID', bins=100,label='Year Data',color='blue',alpha=0.7)\n",
    "plt.title(f'Histogram of Strikeouts by Year')\n",
    "plt.xlabel(continuous_col)\n",
    "plt.ylabel('Frequency')\n",
    "plt.legend(title=category_col)\n",
    "plt.show()"
   ]
  },
  {
   "cell_type": "markdown",
   "id": "e0983478-18bf-44dc-bbf4-843daf4f44d7",
   "metadata": {},
   "source": [
    "# Task 4"
   ]
  },
  {
   "cell_type": "markdown",
   "id": "153aa663-8570-49a8-91fe-13471dd3ea50",
   "metadata": {},
   "source": [
    "During my time working with this dataset, I observed that the game of baseball has changed dramatically over the years. It is an old game that started competition in the late 1800's, so it has had a lot of time to evolve. The amounts of wins and losses has stayed somewhat the same since the game was created. however, the amounts of strikeouts and hits allowed have increased and decreased over time. Also, the data about the mounts of strikeouts and hits allowed shows that it is hard to strike out more than 200 batters a year. The histogram shows you are in elite comopany if you do so.\n",
    "\n",
    "The amount of data in this set is something that really surprised me in this project. the scatter plot has so many points on it that its almost too much to read. The number values were somewhat consistent over categories. The numbers either slightly increased or decreased over time, nothing really stayed consistent. I think a dataset based around the hitters data would show and act as a follow up to this data, since that is the other half of this game. "
   ]
  },
  {
   "cell_type": "code",
   "execution_count": null,
   "id": "7fc19671-f57a-42fd-8da7-bea07e39c869",
   "metadata": {},
   "outputs": [],
   "source": []
  }
 ],
 "metadata": {
  "kernelspec": {
   "display_name": "Python 3 (ipykernel)",
   "language": "python",
   "name": "python3"
  },
  "language_info": {
   "codemirror_mode": {
    "name": "ipython",
    "version": 3
   },
   "file_extension": ".py",
   "mimetype": "text/x-python",
   "name": "python",
   "nbconvert_exporter": "python",
   "pygments_lexer": "ipython3",
   "version": "3.12.4"
  }
 },
 "nbformat": 4,
 "nbformat_minor": 5
}
