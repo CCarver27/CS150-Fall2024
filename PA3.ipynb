{
 "cells": [
  {
   "cell_type": "markdown",
   "id": "8b12cc34-7896-4293-b301-e2e94bbf5cca",
   "metadata": {},
   "source": [
    "# Assignment 3 - Chase Carver, Fall 2024"
   ]
  },
  {
   "cell_type": "markdown",
   "id": "d371263a-193d-490a-b018-69b0e729d855",
   "metadata": {},
   "source": [
    "### Task 1"
   ]
  },
  {
   "cell_type": "code",
   "execution_count": 80,
   "id": "7b0cd586-708d-4980-8fa2-b955bfb83eed",
   "metadata": {},
   "outputs": [
    {
     "name": "stdin",
     "output_type": "stream",
     "text": [
      "Please input the length of triangle A: 6\n",
      "Please input the length of triangle B: 7\n",
      "Please input the length of triangle C: 7\n"
     ]
    }
   ],
   "source": [
    "\n",
    "A= int(input('Please input the length of triangle A:'))\n",
    "B= int(input('Please input the length of triangle B:'))\n",
    "C= int(input('Please input the length of triangle C:'))"
   ]
  },
  {
   "cell_type": "code",
   "execution_count": 82,
   "id": "148450e5-59c9-4e67-8fab-17535ee79317",
   "metadata": {},
   "outputs": [
    {
     "name": "stdout",
     "output_type": "stream",
     "text": [
      "This is an isosceles triangle\n"
     ]
    }
   ],
   "source": [
    "if A == B == C:\n",
    "    print('This is an equilateral triangle')\n",
    "elif A == B or A == C or B == C:\n",
    "    print('This is an isosceles triangle')\n",
    "else:\n",
    "    print('This is a scalene triangle')"
   ]
  },
  {
   "cell_type": "markdown",
   "id": "21b65944-a8d2-4aff-acfd-e2cfd42c2a8f",
   "metadata": {},
   "source": [
    "### Task 2"
   ]
  },
  {
   "cell_type": "code",
   "execution_count": 127,
   "id": "d76ed7d3-e86a-42b3-b018-42e4320d91a9",
   "metadata": {},
   "outputs": [
    {
     "name": "stdin",
     "output_type": "stream",
     "text": [
      "Enter grade for student {a+1}:  78\n",
      "Enter grade for student {a+1}:  98\n",
      "Enter grade for student {a+1}:  69\n",
      "Enter grade for student {a+1}:  91\n",
      "Enter grade for student {a+1}:  58\n"
     ]
    },
    {
     "name": "stdout",
     "output_type": "stream",
     "text": [
      "Class average: 78.80\n",
      "Minimum grade: 58.0\n",
      "Maximum grade: 98.0\n",
      "1 student is at risk in the course.\n"
     ]
    }
   ],
   "source": [
    "student_grades = []\n",
    "for a in range(5):\n",
    "    grade = float(input('Enter grade for student {a+1}: '))\n",
    "    student_grades.append(grade)\n",
    "class_average = sum(student_grades) / len(student_grades)\n",
    "min_grade = min(student_grades)\n",
    "max_grade = max(student_grades)\n",
    "print(f\"Class average: {class_average:.2f}\")\n",
    "print(f\"Minimum grade: {min_grade}\")\n",
    "print(f\"Maximum grade: {max_grade}\")\n",
    "at_risk = sum(grade < 65 for grade in student_grades)\n",
    "if at_risk == 1:\n",
    "    print((at_risk),'student is at risk in the course.')\n",
    "else:\n",
    "    print((at_risk),'students are at risk in the course.')"
   ]
  },
  {
   "cell_type": "markdown",
   "id": "7aa9fd07-e0fb-449e-8246-26f32c586162",
   "metadata": {},
   "source": [
    "### Task 3"
   ]
  },
  {
   "cell_type": "code",
   "execution_count": 32,
   "id": "d3675a5a-17b4-4820-92e0-d1cf30bad317",
   "metadata": {},
   "outputs": [
    {
     "name": "stdout",
     "output_type": "stream",
     "text": [
      "Multiples of 2: [2, 4, 6, 8, 10, 12, 14, 16, 18, 20, 22, 24, 26, 28, 30, 32, 34, 36, 38, 40, 42, 44, 46, 48, 50, 52, 54, 56, 58, 60, 62, 64, 66, 68, 70, 72, 74, 76, 78, 80, 82, 84, 86, 88, 90, 92, 94, 96, 98, 100]\n"
     ]
    }
   ],
   "source": [
    "mult2 = [number for number in range(1,101) if number %2 == 0]\n",
    "print('Multiples of 2:', mult2)"
   ]
  },
  {
   "cell_type": "code",
   "execution_count": 38,
   "id": "a18f7995-3b03-4d84-bf3c-afbfe12eac52",
   "metadata": {},
   "outputs": [
    {
     "name": "stdout",
     "output_type": "stream",
     "text": [
      "Multiples of 3: [3, 6, 9, 12, 15, 18, 21, 24, 27, 30, 33, 36, 39, 42, 45, 48, 51, 54, 57, 60, 63, 66, 69, 72, 75, 78, 81, 84, 87, 90, 93, 96, 99]\n"
     ]
    }
   ],
   "source": [
    "mult3 = [number for number in range(1,101) if number %3 == 0]\n",
    "print('Multiples of 3:', mult3)"
   ]
  },
  {
   "cell_type": "code",
   "execution_count": 40,
   "id": "c5f3d640-dfd0-497a-b014-f83dd27dfd73",
   "metadata": {},
   "outputs": [
    {
     "name": "stdout",
     "output_type": "stream",
     "text": [
      "Multiples of both: [6, 12, 18, 24, 30, 36, 42, 48, 54, 60, 66, 72, 78, 84, 90, 96]\n"
     ]
    }
   ],
   "source": [
    "multboth = [number for number in mult2 if number in mult3]\n",
    "print('Multiples of both:', multboth)"
   ]
  },
  {
   "cell_type": "code",
   "execution_count": 42,
   "id": "66475334-0b7d-456c-86a0-494a1fe044b7",
   "metadata": {},
   "outputs": [
    {
     "name": "stdout",
     "output_type": "stream",
     "text": [
      "Multiples of either: [2, 3, 4, 6, 8, 9, 10, 12, 14, 15, 16, 18, 20, 21, 22, 24, 26, 27, 28, 30, 32, 33, 34, 36, 38, 39, 40, 42, 44, 45, 46, 48, 50, 51, 52, 54, 56, 57, 58, 60, 62, 63, 64, 66, 68, 69, 70, 72, 74, 75, 76, 78, 80, 81, 82, 84, 86, 87, 88, 90, 92, 93, 94, 96, 98, 99, 100]\n"
     ]
    }
   ],
   "source": [
    "mult_of_either = []\n",
    "for number in range (1, 101):\n",
    "    if number in mult2 or number in mult3:\n",
    "        mult_of_either.append(number)\n",
    "print('Multiples of either:', mult_of_either)"
   ]
  },
  {
   "cell_type": "markdown",
   "id": "a6882e56-7e46-4906-905b-1fcb3eeef0d3",
   "metadata": {},
   "source": [
    "### Task 4"
   ]
  },
  {
   "cell_type": "code",
   "execution_count": 93,
   "id": "8616414b-65bf-44d3-bae2-258d5bd5449d",
   "metadata": {},
   "outputs": [
    {
     "name": "stdin",
     "output_type": "stream",
     "text": [
      "Enter an item or type 'done' to finish: bag\n",
      "Enter an item or type 'done' to finish: purse\n",
      "Enter an item or type 'done' to finish: hat\n",
      "Enter an item or type 'done' to finish: done\n"
     ]
    }
   ],
   "source": [
    "shopping_list = []\n",
    "while len(shopping_list) < 7:\n",
    "    item = input(\"Enter an item or type 'done' to finish:\")\n",
    "    if item.lower() == 'done':\n",
    "        break\n",
    "    shopping_list.append(item)"
   ]
  },
  {
   "cell_type": "code",
   "execution_count": 95,
   "id": "69ade756-81ef-44a0-a97b-2a44e56a4b61",
   "metadata": {},
   "outputs": [
    {
     "name": "stdout",
     "output_type": "stream",
     "text": [
      "Total number of items: 3\n"
     ]
    }
   ],
   "source": [
    "print(f'Total number of items: {len(shopping_list)}')"
   ]
  },
  {
   "cell_type": "code",
   "execution_count": 97,
   "id": "ca7cad1f-997e-406a-b19f-ac64ac57df4f",
   "metadata": {},
   "outputs": [
    {
     "name": "stdout",
     "output_type": "stream",
     "text": [
      "Shopping list in reverse order: ['hat', 'purse', 'bag']\n"
     ]
    }
   ],
   "source": [
    "print('Shopping list in reverse order:', shopping_list[::-1])"
   ]
  },
  {
   "cell_type": "code",
   "execution_count": 99,
   "id": "e99b7b47-4efa-45f5-a52f-93044b91eec4",
   "metadata": {},
   "outputs": [
    {
     "name": "stdout",
     "output_type": "stream",
     "text": [
      "Shopping list in alphabetical order: ['bag', 'hat', 'purse']\n"
     ]
    }
   ],
   "source": [
    "print('Shopping list in alphabetical order:', sorted(shopping_list))"
   ]
  },
  {
   "cell_type": "code",
   "execution_count": 101,
   "id": "cf37f429-633e-4e5d-bbb7-1b54d2dcaad6",
   "metadata": {},
   "outputs": [
    {
     "name": "stdout",
     "output_type": "stream",
     "text": [
      "No items appear more than once.\n"
     ]
    }
   ],
   "source": [
    "duplicates = []\n",
    "for item in shopping_list:\n",
    "    if shopping_list.count(item) > 1 and item not in duplicates:\n",
    "        duplicates.append(item)\n",
    "if duplicates:\n",
    "    print(f'The following item(s) appear at least twice: {', '.join(duplicates)}')\n",
    "else:\n",
    "    print('No items appear more than once.')"
   ]
  }
 ],
 "metadata": {
  "kernelspec": {
   "display_name": "Python 3 (ipykernel)",
   "language": "python",
   "name": "python3"
  },
  "language_info": {
   "codemirror_mode": {
    "name": "ipython",
    "version": 3
   },
   "file_extension": ".py",
   "mimetype": "text/x-python",
   "name": "python",
   "nbconvert_exporter": "python",
   "pygments_lexer": "ipython3",
   "version": "3.12.4"
  }
 },
 "nbformat": 4,
 "nbformat_minor": 5
}
