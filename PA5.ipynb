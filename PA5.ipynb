{
 "cells": [
  {
   "cell_type": "markdown",
   "id": "62176828-0f07-4894-b7b9-57e5c66ab771",
   "metadata": {},
   "source": [
    "# CS-150-01 Fall 2024, Chase Carver, Assignment 5"
   ]
  },
  {
   "cell_type": "markdown",
   "id": "51e7c127-ac50-4f10-914e-9e18729556ee",
   "metadata": {},
   "source": [
    "### Task 1"
   ]
  },
  {
   "cell_type": "code",
   "execution_count": 23,
   "id": "a8c965e4-239f-4463-bfd3-8ebb4803827f",
   "metadata": {},
   "outputs": [
    {
     "name": "stdin",
     "output_type": "stream",
     "text": [
      "Enter an activity from last Saturday (\"Done\" to stop):  sleep\n",
      "Enter an activity from last Saturday (\"Done\" to stop):  eat\n",
      "Enter an activity from last Saturday (\"Done\" to stop):  run\n",
      "Enter an activity from last Saturday (\"Done\" to stop):  lift\n",
      "Enter an activity from last Saturday (\"Done\" to stop):  watch tv\n",
      "Enter an activity from last Saturday (\"Done\" to stop):  done\n",
      "Enter an activity from last Sunday (\"Done\" to stop):  eat\n",
      "Enter an activity from last Sunday (\"Done\" to stop):  sleep\n",
      "Enter an activity from last Sunday (\"Done\" to stop):  run\n",
      "Enter an activity from last Sunday (\"Done\" to stop):  done\n"
     ]
    },
    {
     "name": "stdout",
     "output_type": "stream",
     "text": [
      "Activities on Saturday: {'sleep', 'eat', 'lift', 'run', 'watch tv'}\n",
      "Activities on Sunday: {'eat', 'sleep', 'run'}\n",
      "Activities done on both days: {'eat', 'sleep', 'run'}\n",
      "Activities done on at least one of the days: {'lift', 'watch tv', 'sleep', 'run', 'eat'}\n"
     ]
    }
   ],
   "source": [
    "\n",
    "def input_activities(day):\n",
    "    activities = set()\n",
    "    while True:\n",
    "        activity = input(f\"Enter an activity from last {day} (\\\"Done\\\" to stop): \")\n",
    "        if activity.lower() == \"done\":\n",
    "            break\n",
    "        activities.add(activity)\n",
    "    return activities\n",
    "\n",
    "actSat = input_activities(\"Saturday\")\n",
    "actSun = input_activities(\"Sunday\")\n",
    "print(\"Activities on Saturday:\", actSat)\n",
    "print(\"Activities on Sunday:\", actSun)\n",
    "both_days = actSat & actSun\n",
    "print(\"Activities done on both days:\", both_days)\n",
    "either_day = actSat | actSun\n",
    "\n",
    "print(\"Activities done on at least one of the days:\", either_day)"
   ]
  },
  {
   "cell_type": "markdown",
   "id": "b24d5472-ee25-4722-a439-97fa1d667d7e",
   "metadata": {},
   "source": [
    "### Task 2"
   ]
  },
  {
   "cell_type": "code",
   "execution_count": 25,
   "id": "13443c31-cf2b-493d-85a5-b757b99a3c4b",
   "metadata": {},
   "outputs": [
    {
     "name": "stdout",
     "output_type": "stream",
     "text": [
      "(5.0, 12.0, 6.0)\n"
     ]
    }
   ],
   "source": [
    "import math\n",
    "\n",
    "def triangle_solve(leg1, leg2):\n",
    "    hypotenuse = math.sqrt(leg1**2 + leg2**2)\n",
    "\n",
    "    perimeter = leg1 + leg2 + hypotenuse\n",
    "\n",
    "    area = (leg1 * leg2) / 2\n",
    "    \n",
    "    return (hypotenuse, perimeter, area)\n",
    "result = triangle_solve(3, 4)\n",
    "print(result)"
   ]
  },
  {
   "cell_type": "markdown",
   "id": "f5c1cbbb-2aca-4640-8b8e-d51c1879b04f",
   "metadata": {},
   "source": [
    "### Task 3"
   ]
  },
  {
   "cell_type": "code",
   "execution_count": 27,
   "id": "9b53f852-2453-42ee-9900-bea4c113c9e5",
   "metadata": {},
   "outputs": [
    {
     "name": "stdout",
     "output_type": "stream",
     "text": [
      "8\n",
      "6\n",
      "6\n",
      "5.0\n",
      "8\n",
      "Previous result: 8\n",
      "Total calculations: 5\n"
     ]
    }
   ],
   "source": [
    "class Calculator:\n",
    "    def __init__(self):\n",
    "        self.prev_result = None\n",
    "        self.total_calculations = 0\n",
    "\n",
    "    def add(self, a, b):\n",
    "        self.prev_result = a + b\n",
    "        self.total_calculations += 1\n",
    "        return self.prev_result\n",
    "\n",
    "    def subtract(self, a, b):\n",
    "        self.prev_result = a - b\n",
    "        self.total_calculations += 1\n",
    "        return self.prev_result\n",
    "\n",
    "    def multiply(self, a, b):\n",
    "        self.prev_result = a * b\n",
    "        self.total_calculations += 1\n",
    "        return self.prev_result\n",
    "\n",
    "    def divide(self, a, b):\n",
    "        if b != 0:\n",
    "            self.prev_result = a / b\n",
    "        else:\n",
    "            self.prev_result = 'Error: Division by zero'\n",
    "        self.total_calculations += 1\n",
    "        return self.prev_result\n",
    "\n",
    "    def power(self, a, b):\n",
    "        self.prev_result = a ** b\n",
    "        self.total_calculations += 1\n",
    "        return self.prev_result\n",
    "\n",
    "    def info(self):\n",
    "        print(f\"Previous result: {self.prev_result}\")\n",
    "        print(f\"Total calculations: {self.total_calculations}\")\n",
    "\n",
    "calc = Calculator()\n",
    "print(calc.add(5, 3))         \n",
    "print(calc.subtract(10, 4))   \n",
    "print(calc.multiply(2, 3))    \n",
    "print(calc.divide(10, 2))     \n",
    "print(calc.power(2, 3))       \n",
    "calc.info()              "
   ]
  },
  {
   "cell_type": "code",
   "execution_count": null,
   "id": "10997b8f-2361-467d-a954-bb1c727b2913",
   "metadata": {},
   "outputs": [],
   "source": []
  }
 ],
 "metadata": {
  "kernelspec": {
   "display_name": "Python 3 (ipykernel)",
   "language": "python",
   "name": "python3"
  },
  "language_info": {
   "codemirror_mode": {
    "name": "ipython",
    "version": 3
   },
   "file_extension": ".py",
   "mimetype": "text/x-python",
   "name": "python",
   "nbconvert_exporter": "python",
   "pygments_lexer": "ipython3",
   "version": "3.12.4"
  }
 },
 "nbformat": 4,
 "nbformat_minor": 5
}
