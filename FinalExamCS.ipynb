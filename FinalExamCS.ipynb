{
 "cells": [
  {
   "cell_type": "markdown",
   "id": "4dad1e94-3706-410f-b3d5-4ed22d779551",
   "metadata": {},
   "source": [
    "Problem 1: You are to write function **game_summary(team1score,team2score)**, which is to take as input the scores for two teams who have competed in a game and _prints_ the following information about the game:\n",
    "1. Who won (Should be \"Team 1 wins\" if team1score > team2score, \"Team 2 wins\" if team1score < team2score, or \"Tie\" if the scores are equal.\n",
    "2. Score differential (difference between the two scores, must be positive)\n",
    "3. Cumulative Score (combined score of the two teams)\n",
    "4. Whether or not either or both teams were shut out (a team is shut out if it scores 0 points\n",
    "\n",
    "Ex 1: game_summary(17, 22) should print the following: <br> _Team1 wins_<br> _Score Differential of 5_<br> _Cumulative Score of 39_ <br> _No teams were shut out._ <br>\n",
    "\n",
    "Ex 2: game_summary(0, 0) should print the following: <br> _Tie_<br> _Score Differential of 0_<br> _Cumulative Score of 0_ <br> _Both teams were shut out._\n"
   ]
  },
  {
   "cell_type": "code",
   "execution_count": 43,
   "id": "a70db339-5d59-4393-a686-450e79791671",
   "metadata": {},
   "outputs": [
    {
     "name": "stdin",
     "output_type": "stream",
     "text": [
      "Please input the score for Team 1 21\n",
      "Please inpout the score for Team 2 0\n"
     ]
    },
    {
     "name": "stdout",
     "output_type": "stream",
     "text": [
      "Team 1 wins the game\n",
      "The difference of the score in the game is:21\n",
      "The score differential of the game is:21\n",
      "The cumulative score of the game is:21\n",
      "Team 2 was shutout\n"
     ]
    }
   ],
   "source": [
    "game_summary = ['teamscore1', 'teamscore2']\n",
    "teamscore1 = int(input('Please input the score for Team 1'))\n",
    "teamscore2 = int(input('Please inpout the score for Team 2'))\n",
    "if teamscore1 > teamscore2:\n",
    "    print('Team 1 wins the game')\n",
    "elif teamscore2 > teamscore1:\n",
    "    print('Team 2 wins the game')\n",
    "else:\n",
    "    teamscore1 == teamscore2\n",
    "    print('The game result was a tie')\n",
    "\n",
    "if teamscore1 > teamscore2:\n",
    "    differential= teamscore1 - teamscore2\n",
    "    print('The difference of the score in the game is:' +str(differential))\n",
    "elif teamscore2 > teamscore1:\n",
    "    differ = teamscore2 - teamscore1\n",
    "    print('The difference of the score in the game is:' +str(differ))\n",
    "print('The score differential of the game is:' +str(differential))\n",
    "range= teamscore1 + teamscore2\n",
    "print('The cumulative score of the game is:' + str(range))\n",
    "if teamscore1 == 0:\n",
    "    print('Team 1 was shutout')\n",
    "elif teamscore2 == 0:\n",
    "    print('Team 2 was shutout')\n",
    "\n"
   ]
  },
  {
   "cell_type": "markdown",
   "id": "a65e086b-cb74-4040-893f-f69c905fa520",
   "metadata": {},
   "source": [
    "Problem 2: You are to write code to do the following (Note: you _can_ use a function here, but it's not necessary to do so):<br>\n",
    "Take as keyboard input _up to 7_ strings from a user (the user can enter \"Q\" or similar to stop early) and print the following:\n",
    "1. The total sum of characters _across all of the strings_\n",
    "2. The shortest of the strings\n",
    "3. The longest of the strings\n",
    "4. The number of times the string \"Hello\" appears among the ones that are entered. \n",
    "<br> <br> Ex: Assume the following strings are entered from the keyboard:\n",
    "<br>_Please input up to 7 strings (\"Q\" to stop early): Hello_\n",
    "<br>_Please input up to 7 strings (\"Q\" to stop early): Investments_\n",
    "<br>_Please input up to 7 strings (\"Q\" to stop early): Hello_\n",
    "<br>_Please input up to 7 strings (\"Q\" to stop early): Retirement_\n",
    "<br>_Please input up to 7 strings (\"Q\" to stop early): Gold_\n",
    "<br>_Please input up to 7 strings (\"Q\" to stop early): Q_\n",
    "<br><br> The output will be:\n",
    "<br> _A total of 35 characters were input_\n",
    "<br> _The shortest string is \"Gold\"_\n",
    "<br> _The longest string is \"Investments\"_\n",
    "<br> _\"Hello\" appears twice among the input strings._"
   ]
  },
  {
   "cell_type": "code",
   "execution_count": 36,
   "id": "8cce67c7-84d3-4e1c-a9f3-836d0da7fe4d",
   "metadata": {},
   "outputs": [
    {
     "name": "stdout",
     "output_type": "stream",
     "text": [
      "Please input up to 7 strings (\"Q\" to stop early):\n"
     ]
    },
    {
     "name": "stdin",
     "output_type": "stream",
     "text": [
      " Hello\n",
      " Day\n",
      " Night\n",
      " Yes\n",
      " Q\n"
     ]
    },
    {
     "name": "stdout",
     "output_type": "stream",
     "text": [
      "A total of 16 characters were input.\n",
      "The shortest string is \"Day\".\n",
      "The longest string is \"Hello\".\n",
      "\"Hello\" appears 1 times among the input strings.\n"
     ]
    }
   ],
   "source": [
    "def process_strings():\n",
    "    strings = []\n",
    "    print('Please input up to 7 strings (\"Q\" to stop early):')\n",
    "\n",
    "    for _ in range(7):\n",
    "        user_input = input()\n",
    "        if user_input.upper() == \"Q\":\n",
    "            break\n",
    "        strings.append(user_input)\n",
    "\n",
    "    if not strings:\n",
    "        print(\"No strings were entered.\")\n",
    "        return\n",
    "    total_characters = sum(len(s) for s in strings)\n",
    "    shortest_string = min(strings, key=len)\n",
    "    longest_string = max(strings, key=len)\n",
    "\n",
    "    hello_count = strings.count(\"Hello\")\n",
    "\n",
    "\n",
    "    print(f\"A total of {total_characters} characters were input.\")\n",
    "    print(f'The shortest string is \"{shortest_string}\".')\n",
    "    print(f'The longest string is \"{longest_string}\".')\n",
    "    print(f'\"Hello\" appears {hello_count} times among the input strings.')\n",
    "process_strings()"
   ]
  },
  {
   "cell_type": "code",
   "execution_count": null,
   "id": "d16443bd-e8ad-4685-819a-4b2ecad45b19",
   "metadata": {},
   "outputs": [],
   "source": []
  }
 ],
 "metadata": {
  "kernelspec": {
   "display_name": "Python 3 (ipykernel)",
   "language": "python",
   "name": "python3"
  },
  "language_info": {
   "codemirror_mode": {
    "name": "ipython",
    "version": 3
   },
   "file_extension": ".py",
   "mimetype": "text/x-python",
   "name": "python",
   "nbconvert_exporter": "python",
   "pygments_lexer": "ipython3",
   "version": "3.12.4"
  }
 },
 "nbformat": 4,
 "nbformat_minor": 5
}
