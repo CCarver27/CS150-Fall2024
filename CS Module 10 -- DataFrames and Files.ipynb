{
 "cells": [
  {
   "cell_type": "markdown",
   "metadata": {
    "slideshow": {
     "slide_type": "slide"
    }
   },
   "source": [
    "## What We Looked At Last Time\n",
    "* We most recently looked at the use of **NumPy arrays**, which provide for efficient computation associated with _large_ collections of information.\n",
    "* In addition, we looked at some ways to gather **date and time data**, which permitted us to _measure execution time_."
   ]
  },
  {
   "cell_type": "markdown",
   "metadata": {
    "slideshow": {
     "slide_type": "subslide"
    }
   },
   "source": [
    "## What We'll Look At Today\n",
    "* We'll introduce the **Pandas** library, which which provides the cornerstone for many practical _data operations_ in Python\n",
    "* We'll look at the process of reading and writing to data files, both with and without the Pandas library."
   ]
  },
  {
   "cell_type": "markdown",
   "metadata": {
    "slideshow": {
     "slide_type": "slide"
    }
   },
   "source": [
    "# Intro to Data Analysis: `pandas` Series and `DataFrames`\n",
    "* NumPy’s `array` is optimized for homogeneous numeric data that’s accessed via integer indices\n",
    "* Big data applications must support **mixed data types**, along with the ability the _clean the data_\n",
    "* In this context, _cleaning the data_ implies removing erroneous data, accounting for missing data, and fixing inconsistencies within data.\n",
    "* **Pandas** is the most popular library for dealing with this task.\n",
    "* Two key collection types exist in Pandas:\n",
    "    * **`Series`** for one-dimensional collections \n",
    "    * **`DataFrames`** for two-dimensional collections\n",
    "* We'll focus primarily on the latter, because it's the most useful in practice."
   ]
  },
  {
   "cell_type": "markdown",
   "metadata": {
    "slideshow": {
     "slide_type": "subslide"
    }
   },
   "source": [
    "## pandas `Series` \n",
    "* An enhanced one-dimensional `array`\n",
    "* Supports custom indexing, including even non-integer indices like strings\n",
    "* Offers additional capabilities that make them more convenient for many data-science oriented tasks\n",
    "    * `Series` may have missing data\n",
    "    * Many `Series` operations ignore missing data by default"
   ]
  },
  {
   "cell_type": "markdown",
   "metadata": {
    "slideshow": {
     "slide_type": "slide"
    }
   },
   "source": [
    "### Starting Small: a basic pandas  `Series`\n",
    "* The `pd.Series` constructor can be used to create a series from any iterable\n",
    "* Different underlying iterables can result in different datatypes for the series.\n",
    "* By default, a series has integer indices numbered sequentially from 0\n",
    "* Many basic operations available to lists or numPy arrays can be applied to series."
   ]
  },
  {
   "cell_type": "code",
   "execution_count": 4,
   "metadata": {
    "slideshow": {
     "slide_type": "subslide"
    }
   },
   "outputs": [
    {
     "name": "stdout",
     "output_type": "stream",
     "text": [
      "0    86\n",
      "1    91\n",
      "2    94\n",
      "3    89\n",
      "dtype: int64\n",
      "0       red\n",
      "1      blue\n",
      "2     green\n",
      "3    purple\n",
      "4    orange\n",
      "dtype: object\n"
     ]
    }
   ],
   "source": [
    "import pandas as pd\n",
    "gradesList = [86, 91, 94, 89]\n",
    "gradesSeries1 = pd.Series(gradesList)\n",
    "print(gradesSeries1)\n",
    "gradesList = ['red', 'blue', 'green', 'purple','orange']\n",
    "gradesSeries1 = pd.Series(gradesList)\n",
    "print(gradesSeries1)"
   ]
  },
  {
   "cell_type": "markdown",
   "metadata": {
    "slideshow": {
     "slide_type": "slide"
    }
   },
   "source": [
    "## `DataFrames` \n",
    "* Data Series have limited utility in practice.\n",
    "* DataFrames provide enhanced two-dimensional `arrays`\n",
    "* Can have custom row and column indices\n",
    "* Offers additional operations and capabilities that make them fundamental for many data-science oriented tasks\n",
    "* Support missing data (important for real world considerations!)\n",
    "* Each column in a `DataFrame` is technically an individual `Series`"
   ]
  },
  {
   "cell_type": "markdown",
   "metadata": {
    "slideshow": {
     "slide_type": "subslide"
    }
   },
   "source": [
    "### Creating a `DataFrame` from a Dictionary\n",
    "* One of the simplest ways to create a dataframe is to use the `DataFrame` constructor with dictionary that has list _values_\n",
    "* The keys of the dictionary determine the nature of the dataframe _columns_.\n",
    "* Indices are automatically assigned in sequential numerical order.\n",
    "* While homogenous lists are permitted, lists of mixed types may be used to obtain a dataframe with _heterogenous_ data."
   ]
  },
  {
   "cell_type": "code",
   "execution_count": 6,
   "metadata": {
    "slideshow": {
     "slide_type": "subslide"
    }
   },
   "outputs": [
    {
     "name": "stdout",
     "output_type": "stream",
     "text": [
      "   Wally  Eva  Tim  Katie  Bob\n",
      "0     87  100   94    100   83\n",
      "1     96   87   77     81   65\n",
      "2     70   90   90     82   85\n"
     ]
    }
   ],
   "source": [
    "import pandas as pd\n",
    "grades_dict = {'Wally': [87, 96, 70], 'Eva': [100, 87, 90],\n",
    "               'Tim': [94, 77, 90], 'Katie': [100, 81, 82],\n",
    "               'Bob': [83, 65, 85]}\n",
    "grades = pd.DataFrame(grades_dict) #dataframe with homogenous data\n",
    "print(grades)"
   ]
  },
  {
   "cell_type": "code",
   "execution_count": 8,
   "metadata": {
    "slideshow": {
     "slide_type": "-"
    }
   },
   "outputs": [
    {
     "name": "stdout",
     "output_type": "stream",
     "text": [
      "    LName  StudentID  GPA\n",
      "0   James     111111  3.8\n",
      "1  Caldin     123456  3.6\n",
      "2   Smith     246802  3.5\n"
     ]
    }
   ],
   "source": [
    "students_dict = {'LName':['James','Caldin', 'Smith'], 'StudentID': [111111, 123456, 246802], 'GPA': [3.8, 3.6, 3.5]}\n",
    "students = pd.DataFrame(students_dict) #dataframe with heterogenous data\n",
    "print(students) "
   ]
  },
  {
   "cell_type": "markdown",
   "metadata": {
    "slideshow": {
     "slide_type": "slide"
    }
   },
   "source": [
    "### Customizing a `DataFrame`’s Indices with the `index` Attribute \n",
    "* Can use the **`index` attribute** to change the `DataFrame`’s indices from sequential integers to labels\n",
    "* Must provide a one-dimensional collection that has the same number of elements as there are _rows_ in the `DataFrame`"
   ]
  },
  {
   "cell_type": "code",
   "execution_count": 8,
   "metadata": {
    "slideshow": {
     "slide_type": "-"
    }
   },
   "outputs": [
    {
     "name": "stdout",
     "output_type": "stream",
     "text": [
      "       Wally  Eva  Tim  Katie  Bob\n",
      "Test1     87  100   94    100   83\n",
      "Test2     96   87   77     81   65\n",
      "Test3     70   90   90     82   85\n"
     ]
    }
   ],
   "source": [
    "grades.index = ['Test1', 'Test2', 'Test3']\n",
    "print(grades)"
   ]
  },
  {
   "cell_type": "markdown",
   "metadata": {
    "slideshow": {
     "slide_type": "slide"
    }
   },
   "source": [
    "### Accessing a `DataFrame`’s Columns \n",
    "* Can quickly and conveniently look at your data in many different ways, including selecting portions of the data\n",
    "* We can retrieve a single column using the appropriate index, which returns a view of it as a data _series_. \n",
    "* If a `DataFrame`’s column-name strings are valid Python identifiers, you can access them as attributes."
   ]
  },
  {
   "cell_type": "code",
   "execution_count": 9,
   "metadata": {
    "slideshow": {
     "slide_type": "subslide"
    }
   },
   "outputs": [
    {
     "name": "stdout",
     "output_type": "stream",
     "text": [
      "Test1    100\n",
      "Test2     87\n",
      "Test3     90\n",
      "Name: Eva, dtype: int64\n"
     ]
    }
   ],
   "source": [
    "print(grades['Eva']) #retrieve all of Eva's grades"
   ]
  },
  {
   "cell_type": "code",
   "execution_count": 17,
   "metadata": {
    "slideshow": {
     "slide_type": "-"
    }
   },
   "outputs": [
    {
     "name": "stdout",
     "output_type": "stream",
     "text": [
      "0    111111\n",
      "1    123456\n",
      "2    246802\n",
      "Name: StudentID, dtype: int64\n",
      "0    111111\n",
      "1    123456\n",
      "2    246802\n",
      "Name: StudentID, dtype: int64\n"
     ]
    }
   ],
   "source": [
    "print(students['StudentID']) \n",
    "print(students.StudentID) #identical to the statement above"
   ]
  },
  {
   "cell_type": "markdown",
   "metadata": {
    "slideshow": {
     "slide_type": "subslide"
    }
   },
   "source": [
    "### Selecting Rows via the `loc` and `iloc` Attributes\n",
    "* `DataFrame`s support indexing capabilities with `[]`, but pandas documentation recommends using the attributes `loc`, `iloc`, `at` and `iat`\n",
    "    * Optimized to access `DataFrame`s and also prevents ambiguity (e.g. when we see `loc` it is immediately clear a dataframe is involved.\n",
    "    * We can access a row by its _label_ via the `DataFrame`’s **`loc` attribute**\n",
    "    * Alternatively, we can access a row by its _index_ via the **iloc attribute** "
   ]
  },
  {
   "cell_type": "code",
   "execution_count": 20,
   "metadata": {
    "slideshow": {
     "slide_type": "subslide"
    }
   },
   "outputs": [
    {
     "ename": "KeyError",
     "evalue": "'Test1'",
     "output_type": "error",
     "traceback": [
      "\u001b[0;31m---------------------------------------------------------------------------\u001b[0m",
      "\u001b[0;31mKeyError\u001b[0m                                  Traceback (most recent call last)",
      "Cell \u001b[0;32mIn[20], line 1\u001b[0m\n\u001b[0;32m----> 1\u001b[0m \u001b[38;5;28mprint\u001b[39m(grades\u001b[38;5;241m.\u001b[39mloc[\u001b[38;5;124m'\u001b[39m\u001b[38;5;124mTest1\u001b[39m\u001b[38;5;124m'\u001b[39m])\n",
      "File \u001b[0;32m/opt/anaconda3/lib/python3.12/site-packages/pandas/core/indexing.py:1191\u001b[0m, in \u001b[0;36m_LocationIndexer.__getitem__\u001b[0;34m(self, key)\u001b[0m\n\u001b[1;32m   1189\u001b[0m maybe_callable \u001b[38;5;241m=\u001b[39m com\u001b[38;5;241m.\u001b[39mapply_if_callable(key, \u001b[38;5;28mself\u001b[39m\u001b[38;5;241m.\u001b[39mobj)\n\u001b[1;32m   1190\u001b[0m maybe_callable \u001b[38;5;241m=\u001b[39m \u001b[38;5;28mself\u001b[39m\u001b[38;5;241m.\u001b[39m_check_deprecated_callable_usage(key, maybe_callable)\n\u001b[0;32m-> 1191\u001b[0m \u001b[38;5;28;01mreturn\u001b[39;00m \u001b[38;5;28mself\u001b[39m\u001b[38;5;241m.\u001b[39m_getitem_axis(maybe_callable, axis\u001b[38;5;241m=\u001b[39maxis)\n",
      "File \u001b[0;32m/opt/anaconda3/lib/python3.12/site-packages/pandas/core/indexing.py:1431\u001b[0m, in \u001b[0;36m_LocIndexer._getitem_axis\u001b[0;34m(self, key, axis)\u001b[0m\n\u001b[1;32m   1429\u001b[0m \u001b[38;5;66;03m# fall thru to straight lookup\u001b[39;00m\n\u001b[1;32m   1430\u001b[0m \u001b[38;5;28mself\u001b[39m\u001b[38;5;241m.\u001b[39m_validate_key(key, axis)\n\u001b[0;32m-> 1431\u001b[0m \u001b[38;5;28;01mreturn\u001b[39;00m \u001b[38;5;28mself\u001b[39m\u001b[38;5;241m.\u001b[39m_get_label(key, axis\u001b[38;5;241m=\u001b[39maxis)\n",
      "File \u001b[0;32m/opt/anaconda3/lib/python3.12/site-packages/pandas/core/indexing.py:1381\u001b[0m, in \u001b[0;36m_LocIndexer._get_label\u001b[0;34m(self, label, axis)\u001b[0m\n\u001b[1;32m   1379\u001b[0m \u001b[38;5;28;01mdef\u001b[39;00m \u001b[38;5;21m_get_label\u001b[39m(\u001b[38;5;28mself\u001b[39m, label, axis: AxisInt):\n\u001b[1;32m   1380\u001b[0m     \u001b[38;5;66;03m# GH#5567 this will fail if the label is not present in the axis.\u001b[39;00m\n\u001b[0;32m-> 1381\u001b[0m     \u001b[38;5;28;01mreturn\u001b[39;00m \u001b[38;5;28mself\u001b[39m\u001b[38;5;241m.\u001b[39mobj\u001b[38;5;241m.\u001b[39mxs(label, axis\u001b[38;5;241m=\u001b[39maxis)\n",
      "File \u001b[0;32m/opt/anaconda3/lib/python3.12/site-packages/pandas/core/generic.py:4301\u001b[0m, in \u001b[0;36mNDFrame.xs\u001b[0;34m(self, key, axis, level, drop_level)\u001b[0m\n\u001b[1;32m   4299\u001b[0m             new_index \u001b[38;5;241m=\u001b[39m index[loc]\n\u001b[1;32m   4300\u001b[0m \u001b[38;5;28;01melse\u001b[39;00m:\n\u001b[0;32m-> 4301\u001b[0m     loc \u001b[38;5;241m=\u001b[39m index\u001b[38;5;241m.\u001b[39mget_loc(key)\n\u001b[1;32m   4303\u001b[0m     \u001b[38;5;28;01mif\u001b[39;00m \u001b[38;5;28misinstance\u001b[39m(loc, np\u001b[38;5;241m.\u001b[39mndarray):\n\u001b[1;32m   4304\u001b[0m         \u001b[38;5;28;01mif\u001b[39;00m loc\u001b[38;5;241m.\u001b[39mdtype \u001b[38;5;241m==\u001b[39m np\u001b[38;5;241m.\u001b[39mbool_:\n",
      "File \u001b[0;32m/opt/anaconda3/lib/python3.12/site-packages/pandas/core/indexes/range.py:417\u001b[0m, in \u001b[0;36mRangeIndex.get_loc\u001b[0;34m(self, key)\u001b[0m\n\u001b[1;32m    415\u001b[0m         \u001b[38;5;28;01mraise\u001b[39;00m \u001b[38;5;167;01mKeyError\u001b[39;00m(key) \u001b[38;5;28;01mfrom\u001b[39;00m \u001b[38;5;21;01merr\u001b[39;00m\n\u001b[1;32m    416\u001b[0m \u001b[38;5;28;01mif\u001b[39;00m \u001b[38;5;28misinstance\u001b[39m(key, Hashable):\n\u001b[0;32m--> 417\u001b[0m     \u001b[38;5;28;01mraise\u001b[39;00m \u001b[38;5;167;01mKeyError\u001b[39;00m(key)\n\u001b[1;32m    418\u001b[0m \u001b[38;5;28mself\u001b[39m\u001b[38;5;241m.\u001b[39m_check_indexing_error(key)\n\u001b[1;32m    419\u001b[0m \u001b[38;5;28;01mraise\u001b[39;00m \u001b[38;5;167;01mKeyError\u001b[39;00m(key)\n",
      "\u001b[0;31mKeyError\u001b[0m: 'Test1'"
     ]
    }
   ],
   "source": [
    "print(grades.loc['Test1']) #Access the first test (index 0)\n"
   ]
  },
  {
   "cell_type": "code",
   "execution_count": 22,
   "metadata": {
    "slideshow": {
     "slide_type": "-"
    }
   },
   "outputs": [
    {
     "name": "stdout",
     "output_type": "stream",
     "text": [
      "Wally    96\n",
      "Eva      87\n",
      "Tim      77\n",
      "Katie    81\n",
      "Bob      65\n",
      "Name: 1, dtype: int64\n"
     ]
    }
   ],
   "source": [
    "print(grades.iloc[1]) #Access the second test (index 1)"
   ]
  },
  {
   "cell_type": "markdown",
   "metadata": {
    "slideshow": {
     "slide_type": "subslide"
    }
   },
   "source": [
    "### Selecting Rows via Slices with the `loc` and `iloc` Attributes\n",
    "* Indices can use _slice_ notation\n",
    "    * When using slices containing _labels_ with `loc`, the range specified **includes** the second label\n",
    "    * When using slices containing _indices_ with `iloc`, the range specified **excludes** the second index "
   ]
  },
  {
   "cell_type": "code",
   "execution_count": 24,
   "metadata": {
    "slideshow": {
     "slide_type": "-"
    }
   },
   "outputs": [
    {
     "name": "stdout",
     "output_type": "stream",
     "text": [
      "   Wally  Eva  Tim  Katie  Bob\n",
      "0     87  100   94    100   83\n",
      "1     96   87   77     81   65\n",
      "2     70   90   90     82   85\n",
      "\n",
      "Empty DataFrame\n",
      "Columns: [Wally, Eva, Tim, Katie, Bob]\n",
      "Index: []\n"
     ]
    }
   ],
   "source": [
    "print(grades)\n",
    "print()\n",
    "print(grades.loc['Test1':'Test2'])\n"
   ]
  },
  {
   "cell_type": "code",
   "execution_count": 26,
   "metadata": {
    "slideshow": {
     "slide_type": "-"
    }
   },
   "outputs": [
    {
     "name": "stdout",
     "output_type": "stream",
     "text": [
      "   Wally  Eva  Tim  Katie  Bob\n",
      "0     87  100   94    100   83\n",
      "1     96   87   77     81   65\n",
      "2     70   90   90     82   85\n"
     ]
    }
   ],
   "source": [
    "print(grades.iloc[0:5])"
   ]
  },
  {
   "cell_type": "markdown",
   "metadata": {
    "slideshow": {
     "slide_type": "subslide"
    }
   },
   "source": [
    "### Selecting Rows via Lists with the `loc` and `iloc` Attributes\n",
    "* List notation can be used as with arrays or series (remember the brackets!)\n",
    "    * As with arrays and series, accessing with slices generates a _shallow_ copy\n",
    "    * Using list notation generates a _deep_ copy"
   ]
  },
  {
   "cell_type": "code",
   "execution_count": 32,
   "metadata": {},
   "outputs": [
    {
     "ename": "KeyError",
     "evalue": "\"None of [Index(['Test1', 'Test3'], dtype='object')] are in the [index]\"",
     "output_type": "error",
     "traceback": [
      "\u001b[0;31m---------------------------------------------------------------------------\u001b[0m",
      "\u001b[0;31mKeyError\u001b[0m                                  Traceback (most recent call last)",
      "Cell \u001b[0;32mIn[32], line 1\u001b[0m\n\u001b[0;32m----> 1\u001b[0m \u001b[38;5;28mprint\u001b[39m(grades\u001b[38;5;241m.\u001b[39mloc[[\u001b[38;5;124m'\u001b[39m\u001b[38;5;124mTest1\u001b[39m\u001b[38;5;124m'\u001b[39m, \u001b[38;5;124m'\u001b[39m\u001b[38;5;124mTest3\u001b[39m\u001b[38;5;124m'\u001b[39m]])\n",
      "File \u001b[0;32m/opt/anaconda3/lib/python3.12/site-packages/pandas/core/indexing.py:1191\u001b[0m, in \u001b[0;36m_LocationIndexer.__getitem__\u001b[0;34m(self, key)\u001b[0m\n\u001b[1;32m   1189\u001b[0m maybe_callable \u001b[38;5;241m=\u001b[39m com\u001b[38;5;241m.\u001b[39mapply_if_callable(key, \u001b[38;5;28mself\u001b[39m\u001b[38;5;241m.\u001b[39mobj)\n\u001b[1;32m   1190\u001b[0m maybe_callable \u001b[38;5;241m=\u001b[39m \u001b[38;5;28mself\u001b[39m\u001b[38;5;241m.\u001b[39m_check_deprecated_callable_usage(key, maybe_callable)\n\u001b[0;32m-> 1191\u001b[0m \u001b[38;5;28;01mreturn\u001b[39;00m \u001b[38;5;28mself\u001b[39m\u001b[38;5;241m.\u001b[39m_getitem_axis(maybe_callable, axis\u001b[38;5;241m=\u001b[39maxis)\n",
      "File \u001b[0;32m/opt/anaconda3/lib/python3.12/site-packages/pandas/core/indexing.py:1420\u001b[0m, in \u001b[0;36m_LocIndexer._getitem_axis\u001b[0;34m(self, key, axis)\u001b[0m\n\u001b[1;32m   1417\u001b[0m     \u001b[38;5;28;01mif\u001b[39;00m \u001b[38;5;28mhasattr\u001b[39m(key, \u001b[38;5;124m\"\u001b[39m\u001b[38;5;124mndim\u001b[39m\u001b[38;5;124m\"\u001b[39m) \u001b[38;5;129;01mand\u001b[39;00m key\u001b[38;5;241m.\u001b[39mndim \u001b[38;5;241m>\u001b[39m \u001b[38;5;241m1\u001b[39m:\n\u001b[1;32m   1418\u001b[0m         \u001b[38;5;28;01mraise\u001b[39;00m \u001b[38;5;167;01mValueError\u001b[39;00m(\u001b[38;5;124m\"\u001b[39m\u001b[38;5;124mCannot index with multidimensional key\u001b[39m\u001b[38;5;124m\"\u001b[39m)\n\u001b[0;32m-> 1420\u001b[0m     \u001b[38;5;28;01mreturn\u001b[39;00m \u001b[38;5;28mself\u001b[39m\u001b[38;5;241m.\u001b[39m_getitem_iterable(key, axis\u001b[38;5;241m=\u001b[39maxis)\n\u001b[1;32m   1422\u001b[0m \u001b[38;5;66;03m# nested tuple slicing\u001b[39;00m\n\u001b[1;32m   1423\u001b[0m \u001b[38;5;28;01mif\u001b[39;00m is_nested_tuple(key, labels):\n",
      "File \u001b[0;32m/opt/anaconda3/lib/python3.12/site-packages/pandas/core/indexing.py:1360\u001b[0m, in \u001b[0;36m_LocIndexer._getitem_iterable\u001b[0;34m(self, key, axis)\u001b[0m\n\u001b[1;32m   1357\u001b[0m \u001b[38;5;28mself\u001b[39m\u001b[38;5;241m.\u001b[39m_validate_key(key, axis)\n\u001b[1;32m   1359\u001b[0m \u001b[38;5;66;03m# A collection of keys\u001b[39;00m\n\u001b[0;32m-> 1360\u001b[0m keyarr, indexer \u001b[38;5;241m=\u001b[39m \u001b[38;5;28mself\u001b[39m\u001b[38;5;241m.\u001b[39m_get_listlike_indexer(key, axis)\n\u001b[1;32m   1361\u001b[0m \u001b[38;5;28;01mreturn\u001b[39;00m \u001b[38;5;28mself\u001b[39m\u001b[38;5;241m.\u001b[39mobj\u001b[38;5;241m.\u001b[39m_reindex_with_indexers(\n\u001b[1;32m   1362\u001b[0m     {axis: [keyarr, indexer]}, copy\u001b[38;5;241m=\u001b[39m\u001b[38;5;28;01mTrue\u001b[39;00m, allow_dups\u001b[38;5;241m=\u001b[39m\u001b[38;5;28;01mTrue\u001b[39;00m\n\u001b[1;32m   1363\u001b[0m )\n",
      "File \u001b[0;32m/opt/anaconda3/lib/python3.12/site-packages/pandas/core/indexing.py:1558\u001b[0m, in \u001b[0;36m_LocIndexer._get_listlike_indexer\u001b[0;34m(self, key, axis)\u001b[0m\n\u001b[1;32m   1555\u001b[0m ax \u001b[38;5;241m=\u001b[39m \u001b[38;5;28mself\u001b[39m\u001b[38;5;241m.\u001b[39mobj\u001b[38;5;241m.\u001b[39m_get_axis(axis)\n\u001b[1;32m   1556\u001b[0m axis_name \u001b[38;5;241m=\u001b[39m \u001b[38;5;28mself\u001b[39m\u001b[38;5;241m.\u001b[39mobj\u001b[38;5;241m.\u001b[39m_get_axis_name(axis)\n\u001b[0;32m-> 1558\u001b[0m keyarr, indexer \u001b[38;5;241m=\u001b[39m ax\u001b[38;5;241m.\u001b[39m_get_indexer_strict(key, axis_name)\n\u001b[1;32m   1560\u001b[0m \u001b[38;5;28;01mreturn\u001b[39;00m keyarr, indexer\n",
      "File \u001b[0;32m/opt/anaconda3/lib/python3.12/site-packages/pandas/core/indexes/base.py:6200\u001b[0m, in \u001b[0;36mIndex._get_indexer_strict\u001b[0;34m(self, key, axis_name)\u001b[0m\n\u001b[1;32m   6197\u001b[0m \u001b[38;5;28;01melse\u001b[39;00m:\n\u001b[1;32m   6198\u001b[0m     keyarr, indexer, new_indexer \u001b[38;5;241m=\u001b[39m \u001b[38;5;28mself\u001b[39m\u001b[38;5;241m.\u001b[39m_reindex_non_unique(keyarr)\n\u001b[0;32m-> 6200\u001b[0m \u001b[38;5;28mself\u001b[39m\u001b[38;5;241m.\u001b[39m_raise_if_missing(keyarr, indexer, axis_name)\n\u001b[1;32m   6202\u001b[0m keyarr \u001b[38;5;241m=\u001b[39m \u001b[38;5;28mself\u001b[39m\u001b[38;5;241m.\u001b[39mtake(indexer)\n\u001b[1;32m   6203\u001b[0m \u001b[38;5;28;01mif\u001b[39;00m \u001b[38;5;28misinstance\u001b[39m(key, Index):\n\u001b[1;32m   6204\u001b[0m     \u001b[38;5;66;03m# GH 42790 - Preserve name from an Index\u001b[39;00m\n",
      "File \u001b[0;32m/opt/anaconda3/lib/python3.12/site-packages/pandas/core/indexes/base.py:6249\u001b[0m, in \u001b[0;36mIndex._raise_if_missing\u001b[0;34m(self, key, indexer, axis_name)\u001b[0m\n\u001b[1;32m   6247\u001b[0m \u001b[38;5;28;01mif\u001b[39;00m nmissing:\n\u001b[1;32m   6248\u001b[0m     \u001b[38;5;28;01mif\u001b[39;00m nmissing \u001b[38;5;241m==\u001b[39m \u001b[38;5;28mlen\u001b[39m(indexer):\n\u001b[0;32m-> 6249\u001b[0m         \u001b[38;5;28;01mraise\u001b[39;00m \u001b[38;5;167;01mKeyError\u001b[39;00m(\u001b[38;5;124mf\u001b[39m\u001b[38;5;124m\"\u001b[39m\u001b[38;5;124mNone of [\u001b[39m\u001b[38;5;132;01m{\u001b[39;00mkey\u001b[38;5;132;01m}\u001b[39;00m\u001b[38;5;124m] are in the [\u001b[39m\u001b[38;5;132;01m{\u001b[39;00maxis_name\u001b[38;5;132;01m}\u001b[39;00m\u001b[38;5;124m]\u001b[39m\u001b[38;5;124m\"\u001b[39m)\n\u001b[1;32m   6251\u001b[0m     not_found \u001b[38;5;241m=\u001b[39m \u001b[38;5;28mlist\u001b[39m(ensure_index(key)[missing_mask\u001b[38;5;241m.\u001b[39mnonzero()[\u001b[38;5;241m0\u001b[39m]]\u001b[38;5;241m.\u001b[39munique())\n\u001b[1;32m   6252\u001b[0m     \u001b[38;5;28;01mraise\u001b[39;00m \u001b[38;5;167;01mKeyError\u001b[39;00m(\u001b[38;5;124mf\u001b[39m\u001b[38;5;124m\"\u001b[39m\u001b[38;5;132;01m{\u001b[39;00mnot_found\u001b[38;5;132;01m}\u001b[39;00m\u001b[38;5;124m not in index\u001b[39m\u001b[38;5;124m\"\u001b[39m)\n",
      "\u001b[0;31mKeyError\u001b[0m: \"None of [Index(['Test1', 'Test3'], dtype='object')] are in the [index]\""
     ]
    }
   ],
   "source": [
    "print(grades.loc[['Test1', 'Test3']])"
   ]
  },
  {
   "cell_type": "code",
   "execution_count": 30,
   "metadata": {
    "slideshow": {
     "slide_type": "subslide"
    }
   },
   "outputs": [
    {
     "name": "stdout",
     "output_type": "stream",
     "text": [
      "   Wally  Eva  Tim  Katie  Bob\n",
      "0     87  100   94    100   83\n",
      "2     70   90   90     82   85\n"
     ]
    }
   ],
   "source": [
    "print(grades.iloc[[0, 2]])"
   ]
  },
  {
   "cell_type": "markdown",
   "metadata": {
    "slideshow": {
     "slide_type": "subslide"
    }
   },
   "source": [
    "### Selecting Subsets of the Rows and Columns \n",
    "* Add a _second_ argument to either `loc` or `iloc` to access specific columns\n",
    "* `loc` requires column names, while `iloc` requires their numerical index.\n",
    "* General notation rules follow those for arrays."
   ]
  },
  {
   "cell_type": "code",
   "execution_count": 34,
   "metadata": {},
   "outputs": [
    {
     "name": "stdout",
     "output_type": "stream",
     "text": [
      "   Wally  Eva  Tim  Katie  Bob\n",
      "0     87  100   94    100   83\n",
      "1     96   87   77     81   65\n",
      "2     70   90   90     82   85\n"
     ]
    }
   ],
   "source": [
    "print(grades)"
   ]
  },
  {
   "cell_type": "code",
   "execution_count": 36,
   "metadata": {
    "slideshow": {
     "slide_type": "-"
    }
   },
   "outputs": [
    {
     "name": "stdout",
     "output_type": "stream",
     "text": [
      "Empty DataFrame\n",
      "Columns: [Eva, Bob]\n",
      "Index: []\n"
     ]
    }
   ],
   "source": [
    "print(grades.loc['Test1':'Test2', ['Eva', 'Bob']]) #Return the first two test scores for Eva and Bob"
   ]
  },
  {
   "cell_type": "code",
   "execution_count": 38,
   "metadata": {
    "slideshow": {
     "slide_type": "-"
    }
   },
   "outputs": [
    {
     "name": "stdout",
     "output_type": "stream",
     "text": [
      "   Wally  Eva  Tim\n",
      "0     87  100   94\n",
      "1     96   87   77\n",
      "2     70   90   90\n"
     ]
    }
   ],
   "source": [
    "print(grades.iloc[:, 0:3]) #Return all test scores for the first three columns (individuals)"
   ]
  },
  {
   "cell_type": "code",
   "execution_count": 40,
   "metadata": {},
   "outputs": [
    {
     "data": {
      "text/plain": [
       "Wally    84.333333\n",
       "Eva      92.333333\n",
       "Tim      87.000000\n",
       "dtype: float64"
      ]
     },
     "execution_count": 40,
     "metadata": {},
     "output_type": "execute_result"
    }
   ],
   "source": [
    "grades.iloc[:, 0:3].mean(axis=0)"
   ]
  },
  {
   "cell_type": "markdown",
   "metadata": {
    "slideshow": {
     "slide_type": "subslide"
    }
   },
   "source": [
    "### Pandas and Statistics\n",
    "* A common need with data is to compute various statistics that describe it.\n",
    "* DataFrames accommodate many of these in practice using standard method notation, including `mean`, `min`, `max`, and `median` among others.\n",
    "* The syntax for such statistics is \\<DataFrame\\>.\\<method_name\\>(axis=\\<0 or 1\\>) \n",
    "    * Here \"axis\" should be 0 if the statistics are computed per row and 1 if they are computed per column\n",
    "* Ex: mystats.mean(axis = 0) will compute the average of every row in a DataFrame named \"mystats\". "
   ]
  },
  {
   "cell_type": "code",
   "execution_count": 42,
   "metadata": {},
   "outputs": [
    {
     "data": {
      "text/plain": [
       "Wally    84.333333\n",
       "Eva      92.333333\n",
       "Tim      87.000000\n",
       "Katie    87.666667\n",
       "Bob      77.666667\n",
       "dtype: float64"
      ]
     },
     "execution_count": 42,
     "metadata": {},
     "output_type": "execute_result"
    }
   ],
   "source": [
    "#We can compute the average grade per person\n",
    "grades.mean(axis=0)"
   ]
  },
  {
   "cell_type": "code",
   "execution_count": 44,
   "metadata": {},
   "outputs": [
    {
     "data": {
      "text/plain": [
       "0    100\n",
       "1     96\n",
       "2     90\n",
       "dtype: int64"
      ]
     },
     "execution_count": 44,
     "metadata": {},
     "output_type": "execute_result"
    }
   ],
   "source": [
    "#Or we can compute the highest grade per exam\n",
    "grades.max(axis=1)"
   ]
  },
  {
   "cell_type": "code",
   "execution_count": 46,
   "metadata": {},
   "outputs": [
    {
     "data": {
      "text/plain": [
       "Wally   NaN\n",
       "Eva     NaN\n",
       "Tim     NaN\n",
       "Katie   NaN\n",
       "Bob     NaN\n",
       "dtype: float64"
      ]
     },
     "execution_count": 46,
     "metadata": {},
     "output_type": "execute_result"
    }
   ],
   "source": [
    "#Or we can compute the median grade per person excluding the last exam (Test 3)\n",
    "grades.loc['Test1':'Test2'].median(axis=0)"
   ]
  },
  {
   "cell_type": "markdown",
   "metadata": {
    "slideshow": {
     "slide_type": "slide"
    }
   },
   "source": [
    "## `csv` Files and Python\n",
    "* **Comma-separated value** or **.csv** files are simple data files that use commas as delimiters between elements.\n",
    "* .csv files are generally described having the most \"universal\" of data formats.\n",
    "    * A principal advantage to .csv files is that virtually any data-reliant application can open and/or convert them to varying formats.\n",
    "    * A principal drawback of .csv files is that they are extremely insecure due to both their ubiquitous nature and transparency.\n",
    "* The **`csv` module** provides suitable functionality for working with .csv files"
   ]
  },
  {
   "cell_type": "markdown",
   "metadata": {
    "slideshow": {
     "slide_type": "slide"
    }
   },
   "source": [
    "## DataFrames and Files\n",
    "* While we can use dictionaries or similar collections to produce DataFrames, in practice we often rely on **data files** to produce a DataFrame for analysis.\n",
    "* We therefore address the useful application of reading/writing data files in Python below.\n",
    "* After doing so, we look at the critical use of Pandas to perform analysis with files."
   ]
  },
  {
   "cell_type": "markdown",
   "metadata": {
    "slideshow": {
     "slide_type": "slide"
    }
   },
   "source": [
    "### Writing to a CSV File using `with`\n",
    "* As with other text-based files, a `with open` clause can be used to open a .csv file for reading or writing.\n",
    "    * Use `mode='w'` to open a file for writing purposes.\n",
    "    * `csv` module documentation recommends opening CSV files with the additional keyword argument `newline=''` to ensure that newlines are processed properly in writing CSV files\n",
    "* `csv.writer` is a function that returns a wrapper object around an open text object that allows fast and simple processing of files that used commas as delimiters.  \n",
    "    * A `writer`’s **`writerow` method** receives an iterable of tokens to store in the file\n",
    "    * By default, `writerow` delimits separate tokens with commas, but you can specify custom delimit"
   ]
  },
  {
   "cell_type": "code",
   "execution_count": 42,
   "metadata": {
    "slideshow": {
     "slide_type": "subslide"
    }
   },
   "outputs": [],
   "source": [
    "import csv\n",
    "with open('accounts.csv', mode='w', newline='') as accounts:\n",
    "    writer = csv.writer(accounts)\n",
    "    writer.writerow(['Acct Num', 'Name', 'Balance'])\n",
    "    writer.writerow([100, 'Jones', 24.98])\n",
    "    writer.writerow([200, 'Doe', 345.67])\n",
    "    writer.writerow([300, 'Stone', 0.00])\n",
    "    writer.writerow([400, 'Stone', -42.16])\n",
    "    writer.writerow([500, 'Rich', 224.62])"
   ]
  },
  {
   "cell_type": "markdown",
   "metadata": {
    "slideshow": {
     "slide_type": "subslide"
    }
   },
   "source": [
    "### `writerow` and `writerows` details\n",
    "* `writerow` calls such as the above can be replaced with one **`writerows`** call that outputs a _comma-separated list_ of iterables representing the records\n",
    "* If you write data that contains commas in a given string, `writerow` encloses that string in double quotes to indicate a _single_ value"
   ]
  },
  {
   "cell_type": "code",
   "execution_count": 45,
   "metadata": {
    "slideshow": {
     "slide_type": "fragment"
    }
   },
   "outputs": [],
   "source": [
    "rowlist = [['Acct Num', 'Name', 'Balance'], [100, 'Jones, Elaine', 24.98], [200, 'Doe, John', 345.67],\n",
    "           [300, 'Stone, Cassie', 0.00], [400, 'Stone, Adam', -42.16], [500, 'Rich, Evelyn', 224.62]]\n",
    "with open('accountsv2.csv', mode='w', newline='') as accountsv2:\n",
    "    writer = csv.writer(accountsv2)\n",
    "    writer.writerows(rowlist)"
   ]
  },
  {
   "cell_type": "markdown",
   "metadata": {
    "slideshow": {
     "slide_type": "slide"
    }
   },
   "source": [
    "### Reading from a CSV File\n",
    "* Reading records from a .csv file follows similar principles (albeit in \"reverse\"), with changes as follows:\n",
    "    * `mode='r'` should be used in lieu of the writing mode.\n",
    "    * The `csv.reader` function should be used to create a wrapper object for reading csv lines.\n",
    "    * The reader ultimately provides a _lazy iterable_ containing tuples of tokens. "
   ]
  },
  {
   "cell_type": "code",
   "execution_count": 48,
   "metadata": {
    "slideshow": {
     "slide_type": "subslide"
    }
   },
   "outputs": [
    {
     "name": "stdout",
     "output_type": "stream",
     "text": [
      "Acct Num  Name         Balance\n",
      "100       Jones          24.98\n",
      "200       Doe           345.67\n",
      "300       Stone            0.0\n",
      "400       Stone         -42.16\n",
      "500       Rich          224.62\n"
     ]
    }
   ],
   "source": [
    "with open('accounts.csv', mode='r', newline='') as accounts:\n",
    "    reader = csv.reader(accounts)\n",
    "    for record in reader:  \n",
    "        account, name, balance = record\n",
    "        print(f'{account:<10}{name:<10}{balance:>10}')"
   ]
  },
  {
   "cell_type": "markdown",
   "metadata": {
    "slideshow": {
     "slide_type": "notes"
    }
   },
   "source": [
    "### Datasets\n",
    "* In practice, we almost always use datasets that are provided to us or we find online, as opposed to one we generate.\n",
    "* There are an enormous variety of free datasets available online, including many in .csv format.\n",
    "* **Rdatasets repository** provides links to over 1100 free datasets in comma-separated values (CSV) format\n",
    "> https://vincentarelbundock.github.io/Rdatasets/datasets.html\n",
    "* Another large source of datasets is\n",
    "> https://github.com/awesomedata/awesome-public-datasets\n",
    "* Lastly, Kaggle is a website specifically known to possess datasets related to a variety of data sources and tasks.\n",
    "> https://kaggle.com \n"
   ]
  },
  {
   "cell_type": "markdown",
   "metadata": {
    "slideshow": {
     "slide_type": "slide"
    }
   },
   "source": [
    "## Reading CSV Files into Pandas `DataFrames` \n",
    "* The process of loading .csv files into Python and converting them into a dataframe is common enough a pandas function was created for that specific purpose:\n",
    "    * `pd.read_csv` will load a .csv dataset into a `DataFrame` specified as a return argument.\n",
    "    * The `names` argument specifies the `DataFrame`’s column names\n",
    "    * Note: without this argument, `read_csv` assumes that the CSV file’s first row is a comma-delimited list of column names"
   ]
  },
  {
   "cell_type": "code",
   "execution_count": 52,
   "metadata": {
    "slideshow": {
     "slide_type": "subslide"
    }
   },
   "outputs": [
    {
     "name": "stdout",
     "output_type": "stream",
     "text": [
      "   Acct Num   Name  Balance\n",
      "0       100  Jones    24.98\n",
      "1       200    Doe   345.67\n",
      "2       300  Stone     0.00\n",
      "3       400  Stone   -42.16\n",
      "4       500   Rich   224.62\n"
     ]
    }
   ],
   "source": [
    "import pandas as pd\n",
    "df = pd.read_csv('accounts.csv')\n",
    "print(df)\n",
    "#print()\n",
    "#print(df.describe(include='all')) #Note how the different data types are handled in the summary!"
   ]
  },
  {
   "cell_type": "markdown",
   "metadata": {
    "slideshow": {
     "slide_type": "subslide"
    }
   },
   "source": [
    "## Writing CSV Files from Pandas `DataFrames` \n",
    "* To save a `DataFrame` to a file using .csv format, call `DataFrame` method **`to_csv`**\n",
    "* By default, both index names (`0`-`4` in our previous example) and column names are included in the .csv file. \n",
    "* Use `index=False` to exclude row names from the resulting file.\n",
    "* Likewise, use `header=False` to exclude column names from the resulting file."
   ]
  },
  {
   "cell_type": "code",
   "execution_count": 55,
   "metadata": {},
   "outputs": [],
   "source": [
    "df.to_csv('accounts_from_dataframe.csv', header=False) #This will look a little bit different from our prior .csv files."
   ]
  },
  {
   "cell_type": "markdown",
   "metadata": {
    "slideshow": {
     "slide_type": "subslide"
    }
   },
   "source": [
    "## Example: Reading the Titanic Disaster Dataset \n",
    "* The Titanic disaster dataset is one of the most popular machine-learning datasets (albeit a grim one).\n",
    "* We could download the dataset from a repository and load it locally.\n",
    "    * Alternatively, we can use `pd.read_csv` to load it directly from a url"
   ]
  },
  {
   "cell_type": "code",
   "execution_count": 58,
   "metadata": {},
   "outputs": [],
   "source": [
    "pd_titanic = pd.read_csv('https://vincentarelbundock.github.io/Rdatasets/csv/carData/TitanicSurvival.csv')"
   ]
  },
  {
   "cell_type": "markdown",
   "metadata": {
    "slideshow": {
     "slide_type": "subslide"
    }
   },
   "source": [
    "### Viewing Some of the Rows in the Titanic Dataset\n",
    "* The dataset contains over 1300 rows, each representing one passenger\n",
    "* For large datasets, displaying a `DataFrame` shows only the first 30 rows, followed by “…” and the last 30 rows\n",
    "* We can view the first five and last five rows with `DataFrame` methods **`head`** and **`tail`**\n",
    "    * Both return five rows by default"
   ]
  },
  {
   "cell_type": "code",
   "execution_count": 61,
   "metadata": {
    "slideshow": {
     "slide_type": "subslide"
    }
   },
   "outputs": [
    {
     "name": "stdout",
     "output_type": "stream",
     "text": [
      "                          rownames survived     sex    age passengerClass\n",
      "0    Allen, Miss. Elisabeth Walton      yes  female  29.00            1st\n",
      "1   Allison, Master. Hudson Trevor      yes    male   0.92            1st\n",
      "2     Allison, Miss. Helen Loraine       no  female   2.00            1st\n",
      "3  Allison, Mr. Hudson Joshua Crei       no    male  30.00            1st\n",
      "4  Allison, Mrs. Hudson J C (Bessi       no  female  25.00            1st\n"
     ]
    }
   ],
   "source": [
    "pd.set_option('display.precision', 2)  # format display for floating-point values\n",
    "print(pd_titanic.head())"
   ]
  },
  {
   "cell_type": "code",
   "execution_count": 63,
   "metadata": {
    "slideshow": {
     "slide_type": "subslide"
    }
   },
   "outputs": [
    {
     "name": "stdout",
     "output_type": "stream",
     "text": [
      "                       rownames survived     sex   age passengerClass\n",
      "1304       Zabour, Miss. Hileni       no  female  14.5            3rd\n",
      "1305      Zabour, Miss. Thamine       no  female   NaN            3rd\n",
      "1306  Zakarian, Mr. Mapriededer       no    male  26.5            3rd\n",
      "1307        Zakarian, Mr. Ortin       no    male  27.0            3rd\n",
      "1308         Zimmerman, Mr. Leo       no    male  29.0            3rd\n"
     ]
    }
   ],
   "source": [
    "print(pd_titanic.tail())"
   ]
  },
  {
   "cell_type": "markdown",
   "metadata": {},
   "source": [
    "### Notes:\n",
    "* pandas adjusts each column’s width, based on the widest value in the column or based on the column name, whichever is wider\n",
    "* The value in the age column of row `1305` is `NaN` (not a number), indicating a missing value in the dataset"
   ]
  },
  {
   "cell_type": "markdown",
   "metadata": {
    "slideshow": {
     "slide_type": "subslide"
    }
   },
   "source": [
    "### Customizing the Column Names\n",
    "* First column has a strange name (`'Unnamed: 0'`)\n",
    "* Can clean that up by setting the column names"
   ]
  },
  {
   "cell_type": "code",
   "execution_count": 69,
   "metadata": {
    "slideshow": {
     "slide_type": "subslide"
    }
   },
   "outputs": [
    {
     "name": "stdout",
     "output_type": "stream",
     "text": [
      "                              name survived  gender    age class\n",
      "0    Allen, Miss. Elisabeth Walton      yes  female  29.00   1st\n",
      "1   Allison, Master. Hudson Trevor      yes    male   0.92   1st\n",
      "2     Allison, Miss. Helen Loraine       no  female   2.00   1st\n",
      "3  Allison, Mr. Hudson Joshua Crei       no    male  30.00   1st\n",
      "4  Allison, Mrs. Hudson J C (Bessi       no  female  25.00   1st\n"
     ]
    }
   ],
   "source": [
    "pd_titanic.columns = ['name', 'survived', 'gender', 'age', 'class']\n",
    "print(pd_titanic.head())"
   ]
  },
  {
   "cell_type": "markdown",
   "metadata": {
    "slideshow": {
     "slide_type": "subslide"
    }
   },
   "source": [
    "## Simple Data Analysis with the Titanic Disaster Dataset \n",
    "* Can use pandas to perform some simple analysis.\n",
    "* Calling `describe` on a `DataFrame` containing both numeric and non-numeric columns produces descriptive statistics _only for the numeric columns_\n",
    "    * in this case, just the `age` column"
   ]
  },
  {
   "cell_type": "code",
   "execution_count": 72,
   "metadata": {
    "slideshow": {
     "slide_type": "subslide"
    }
   },
   "outputs": [
    {
     "name": "stdout",
     "output_type": "stream",
     "text": [
      "           age\n",
      "count  1046.00\n",
      "mean     29.88\n",
      "std      14.41\n",
      "min       0.17\n",
      "25%      21.00\n",
      "50%      28.00\n",
      "75%      39.00\n",
      "max      80.00\n"
     ]
    }
   ],
   "source": [
    "print(pd_titanic.describe())"
   ]
  },
  {
   "cell_type": "markdown",
   "metadata": {
    "slideshow": {
     "slide_type": "subslide"
    }
   },
   "source": [
    "## Simple Data Analysis with the Titanic Disaster Dataset\n",
    "* Discrepancy in the `count` (`1046`) vs. the dataset’s number of rows (1309—the last row’s index was `1308` when we called `tail`)\n",
    "    * Only `1046` (the `count` above) of the records contained an age\n",
    "    * The rest were _missing_ and marked as `NaN`\n",
    "* When performing calculations, Pandas _ignores missing data (`NaN`) by default_\n"
   ]
  },
  {
   "cell_type": "code",
   "execution_count": 75,
   "metadata": {
    "slideshow": {
     "slide_type": "fragment"
    }
   },
   "outputs": [
    {
     "data": {
      "text/plain": [
       "count     1309\n",
       "unique       2\n",
       "top         no\n",
       "freq       809\n",
       "Name: survived, dtype: object"
      ]
     },
     "execution_count": 75,
     "metadata": {},
     "output_type": "execute_result"
    }
   ],
   "source": [
    "pd_titanic.survived.describe()"
   ]
  },
  {
   "cell_type": "markdown",
   "metadata": {
    "slideshow": {
     "slide_type": "fragment"
    }
   },
   "source": [
    "* For non-numeric data, `describe` displays different descriptive statistics:\n",
    "    * `count` is the total number of items in the result\n",
    "    * `unique` is the number of unique values (`2`) in the result—`True` (survived) and `False` (died)\n",
    "    * `top` is the most frequently occurring value in the result\n",
    "    * `freq` is the number of occurrences of the `top` value"
   ]
  },
  {
   "cell_type": "markdown",
   "metadata": {
    "slideshow": {
     "slide_type": "subslide"
    }
   },
   "source": [
    "* Let’s say you want to determine some statistics about people who survived\n",
    "* Can compare the `survived` column to `'yes'` to get a new `Series` containing `True/False` values, then use `describe` to summarize the results"
   ]
  },
  {
   "cell_type": "code",
   "execution_count": 79,
   "metadata": {
    "slideshow": {
     "slide_type": "subslide"
    }
   },
   "outputs": [
    {
     "data": {
      "text/html": [
       "<div>\n",
       "<style scoped>\n",
       "    .dataframe tbody tr th:only-of-type {\n",
       "        vertical-align: middle;\n",
       "    }\n",
       "\n",
       "    .dataframe tbody tr th {\n",
       "        vertical-align: top;\n",
       "    }\n",
       "\n",
       "    .dataframe thead th {\n",
       "        text-align: right;\n",
       "    }\n",
       "</style>\n",
       "<table border=\"1\" class=\"dataframe\">\n",
       "  <thead>\n",
       "    <tr style=\"text-align: right;\">\n",
       "      <th></th>\n",
       "      <th>age</th>\n",
       "    </tr>\n",
       "  </thead>\n",
       "  <tbody>\n",
       "    <tr>\n",
       "      <th>count</th>\n",
       "      <td>427.00</td>\n",
       "    </tr>\n",
       "    <tr>\n",
       "      <th>mean</th>\n",
       "      <td>28.92</td>\n",
       "    </tr>\n",
       "    <tr>\n",
       "      <th>std</th>\n",
       "      <td>15.06</td>\n",
       "    </tr>\n",
       "    <tr>\n",
       "      <th>min</th>\n",
       "      <td>0.17</td>\n",
       "    </tr>\n",
       "    <tr>\n",
       "      <th>25%</th>\n",
       "      <td>20.00</td>\n",
       "    </tr>\n",
       "    <tr>\n",
       "      <th>50%</th>\n",
       "      <td>28.00</td>\n",
       "    </tr>\n",
       "    <tr>\n",
       "      <th>75%</th>\n",
       "      <td>38.00</td>\n",
       "    </tr>\n",
       "    <tr>\n",
       "      <th>max</th>\n",
       "      <td>80.00</td>\n",
       "    </tr>\n",
       "  </tbody>\n",
       "</table>\n",
       "</div>"
      ],
      "text/plain": [
       "          age\n",
       "count  427.00\n",
       "mean    28.92\n",
       "std     15.06\n",
       "min      0.17\n",
       "25%     20.00\n",
       "50%     28.00\n",
       "75%     38.00\n",
       "max     80.00"
      ]
     },
     "execution_count": 79,
     "metadata": {},
     "output_type": "execute_result"
    }
   ],
   "source": [
    "(pd_titanic[pd_titanic.survived == 'yes']).describe()"
   ]
  },
  {
   "cell_type": "code",
   "execution_count": 81,
   "metadata": {
    "slideshow": {
     "slide_type": "fragment"
    }
   },
   "outputs": [
    {
     "data": {
      "text/html": [
       "<div>\n",
       "<style scoped>\n",
       "    .dataframe tbody tr th:only-of-type {\n",
       "        vertical-align: middle;\n",
       "    }\n",
       "\n",
       "    .dataframe tbody tr th {\n",
       "        vertical-align: top;\n",
       "    }\n",
       "\n",
       "    .dataframe thead th {\n",
       "        text-align: right;\n",
       "    }\n",
       "</style>\n",
       "<table border=\"1\" class=\"dataframe\">\n",
       "  <thead>\n",
       "    <tr style=\"text-align: right;\">\n",
       "      <th></th>\n",
       "      <th>age</th>\n",
       "    </tr>\n",
       "  </thead>\n",
       "  <tbody>\n",
       "    <tr>\n",
       "      <th>count</th>\n",
       "      <td>619.00</td>\n",
       "    </tr>\n",
       "    <tr>\n",
       "      <th>mean</th>\n",
       "      <td>30.55</td>\n",
       "    </tr>\n",
       "    <tr>\n",
       "      <th>std</th>\n",
       "      <td>13.92</td>\n",
       "    </tr>\n",
       "    <tr>\n",
       "      <th>min</th>\n",
       "      <td>0.33</td>\n",
       "    </tr>\n",
       "    <tr>\n",
       "      <th>25%</th>\n",
       "      <td>21.00</td>\n",
       "    </tr>\n",
       "    <tr>\n",
       "      <th>50%</th>\n",
       "      <td>28.00</td>\n",
       "    </tr>\n",
       "    <tr>\n",
       "      <th>75%</th>\n",
       "      <td>39.00</td>\n",
       "    </tr>\n",
       "    <tr>\n",
       "      <th>max</th>\n",
       "      <td>74.00</td>\n",
       "    </tr>\n",
       "  </tbody>\n",
       "</table>\n",
       "</div>"
      ],
      "text/plain": [
       "          age\n",
       "count  619.00\n",
       "mean    30.55\n",
       "std     13.92\n",
       "min      0.33\n",
       "25%     21.00\n",
       "50%     28.00\n",
       "75%     39.00\n",
       "max     74.00"
      ]
     },
     "execution_count": 81,
     "metadata": {},
     "output_type": "execute_result"
    }
   ],
   "source": [
    "(pd_titanic[pd_titanic.survived == 'no']).describe()"
   ]
  },
  {
   "cell_type": "markdown",
   "metadata": {
    "slideshow": {
     "slide_type": "subslide"
    }
   },
   "source": [
    "## Passenger Age Histogram\n",
    "* Visualization helps you get to know your data\n",
    "* Pandas has many built-in visualization capabilities that are implemented with Matplotlib\n",
    "* For example:\n",
    "    * A histogram visualizes the distribution of numerical data over a range of values\n",
    "    * A `DataFrame`’s **`hist`** method analyzes each numerical column’s data and produces a separate histogram for each numerical column"
   ]
  },
  {
   "cell_type": "code",
   "execution_count": 84,
   "metadata": {
    "scrolled": true,
    "slideshow": {
     "slide_type": "subslide"
    }
   },
   "outputs": [
    {
     "data": {
      "image/png": "[encoded data removed]",
      "text/plain": [
       "<Figure size 640x480 with 1 Axes>"
      ]
     },
     "metadata": {},
     "output_type": "display_data"
    }
   ],
   "source": [
    "histogram = pd_titanic.hist()"
   ]
  },
  {
   "cell_type": "code",
   "execution_count": 86,
   "metadata": {
    "slideshow": {
     "slide_type": "subslide"
    }
   },
   "outputs": [
    {
     "data": {
      "image/png": "[encoded data removed]",
      "text/plain": [
       "<Figure size 640x480 with 1 Axes>"
      ]
     },
     "metadata": {},
     "output_type": "display_data"
    }
   ],
   "source": [
    "pd_tsurvive = pd_titanic[pd_titanic.survived=='yes']\n",
    "histogramSurvive = pd_tsurvive.hist()"
   ]
  },
  {
   "cell_type": "code",
   "execution_count": 88,
   "metadata": {
    "slideshow": {
     "slide_type": "fragment"
    }
   },
   "outputs": [
    {
     "data": {
      "image/png": "[encoded data removed]",
      "text/plain": [
       "<Figure size 640x480 with 1 Axes>"
      ]
     },
     "metadata": {},
     "output_type": "display_data"
    }
   ],
   "source": [
    "pd_tsurvive = pd_titanic[pd_titanic.survived=='no']\n",
    "histogramSurvive = pd_tsurvive.hist()"
   ]
  },
  {
   "cell_type": "code",
   "execution_count": null,
   "metadata": {},
   "outputs": [],
   "source": []
  },
  {
   "cell_type": "code",
   "execution_count": null,
   "metadata": {},
   "outputs": [],
   "source": []
  },
  {
   "cell_type": "code",
   "execution_count": null,
   "metadata": {},
   "outputs": [],
   "source": []
  },
  {
   "cell_type": "code",
   "execution_count": null,
   "metadata": {},
   "outputs": [],
   "source": []
  }
 ],
 "metadata": {
  "celltoolbar": "Slideshow",
  "kernelspec": {
   "display_name": "Python 3 (ipykernel)",
   "language": "python",
   "name": "python3"
  },
  "language_info": {
   "codemirror_mode": {
    "name": "ipython",
    "version": 3
   },
   "file_extension": ".py",
   "mimetype": "text/x-python",
   "name": "python",
   "nbconvert_exporter": "python",
   "pygments_lexer": "ipython3",
   "version": "3.12.4"
  }
 },
 "nbformat": 4,
 "nbformat_minor": 4
}
